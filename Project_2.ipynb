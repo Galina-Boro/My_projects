{
 "cells": [
  {
   "cell_type": "markdown",
   "metadata": {
    "id": "42289889-bd57-434e-9637-d3e354756316"
   },
   "source": [
    "<center> <img src = https://raw.githubusercontent.com/AndreyRysistov/DatasetsForPandas/main/hh%20label.jpg alt=\"drawing\" style=\"width:400px;\">"
   ]
  },
  {
   "cell_type": "markdown",
   "metadata": {
    "id": "829cb75b-f14e-4ba8-9195-7ba929a7d656",
    "tags": []
   },
   "source": [
    "# <center> Проект: Анализ вакансий из HeadHunter\n",
    "   "
   ]
  },
  {
   "cell_type": "code",
   "execution_count": 1,
   "metadata": {
    "id": "dccfde33-2452-43fb-a8a5-5c6ebc02a71d"
   },
   "outputs": [],
   "source": [
    "import pandas as pd\n",
    "import psycopg2"
   ]
  },
  {
   "cell_type": "code",
   "execution_count": 2,
   "metadata": {
    "id": "oVKH4ehvf8Ay"
   },
   "outputs": [],
   "source": [
    "# вставьте сюда параметры подключения из юнита 1. Работа с базой данных из Python \n",
    "DBNAME = 'project_sql'\n",
    "USER = 'skillfactory'\n",
    "PASSWORD = 'cCkxxLVrDE8EbvjueeMedPKt'\n",
    "HOST = '84.201.134.129'\n",
    "PORT = 5432"
   ]
  },
  {
   "cell_type": "code",
   "execution_count": 3,
   "metadata": {
    "id": "G4X_q8KBf7SF"
   },
   "outputs": [],
   "source": [
    "connection = psycopg2.connect(\n",
    "    dbname=DBNAME,\n",
    "    user=USER,\n",
    "    host=HOST,\n",
    "    password=PASSWORD,\n",
    "    port=PORT\n",
    ")"
   ]
  },
  {
   "cell_type": "markdown",
   "metadata": {
    "id": "0dc6476b-7a00-44f1-ac93-6e3baed33a29"
   },
   "source": [
    "# Юнит 3. Предварительный анализ данных"
   ]
  },
  {
   "cell_type": "markdown",
   "metadata": {
    "id": "889782b6-8d1c-410e-8920-e57f27917c64"
   },
   "source": [
    "1. Напишите запрос, который посчитает количество вакансий в нашей базе (вакансии находятся в таблице vacancies). "
   ]
  },
  {
   "cell_type": "code",
   "execution_count": 4,
   "metadata": {
    "id": "bc39e68e-ed02-4ee2-9235-7258a2f867a8"
   },
   "outputs": [],
   "source": [
    "# текст запроса\n",
    "query_1 = f'''select *\n",
    "            from vacancies\n",
    "         '''\n",
    "# чтобы посчитать количество вакансий, нужно конечно сделать запрос с count(*),\n",
    "# но в начале хочется посмотреть на вид и содержание таблиц, поэтому выбиралю все строки\n",
    "# количество строк равно количеству вакансий"
   ]
  },
  {
   "cell_type": "code",
   "execution_count": 5,
   "metadata": {
    "id": "7mAwtsk4hEHY"
   },
   "outputs": [
    {
     "data": {
      "text/html": [
       "<div>\n",
       "<style scoped>\n",
       "    .dataframe tbody tr th:only-of-type {\n",
       "        vertical-align: middle;\n",
       "    }\n",
       "\n",
       "    .dataframe tbody tr th {\n",
       "        vertical-align: top;\n",
       "    }\n",
       "\n",
       "    .dataframe thead th {\n",
       "        text-align: right;\n",
       "    }\n",
       "</style>\n",
       "<table border=\"1\" class=\"dataframe\">\n",
       "  <thead>\n",
       "    <tr style=\"text-align: right;\">\n",
       "      <th></th>\n",
       "      <th>id</th>\n",
       "      <th>name</th>\n",
       "      <th>key_skills</th>\n",
       "      <th>schedule</th>\n",
       "      <th>experience</th>\n",
       "      <th>employment</th>\n",
       "      <th>salary_from</th>\n",
       "      <th>salary_to</th>\n",
       "      <th>area_id</th>\n",
       "      <th>employer_id</th>\n",
       "    </tr>\n",
       "  </thead>\n",
       "  <tbody>\n",
       "    <tr>\n",
       "      <th>0</th>\n",
       "      <td>55312386</td>\n",
       "      <td>Компьютерный Мастер</td>\n",
       "      <td>Пользователь ПК\\tРабота в команде\\tРемонт ноут...</td>\n",
       "      <td>Полный день</td>\n",
       "      <td>Нет опыта</td>\n",
       "      <td>Полная занятость</td>\n",
       "      <td>64000.0</td>\n",
       "      <td>NaN</td>\n",
       "      <td>1516</td>\n",
       "      <td>5724811</td>\n",
       "    </tr>\n",
       "    <tr>\n",
       "      <th>1</th>\n",
       "      <td>55843014</td>\n",
       "      <td>Системный администратор</td>\n",
       "      <td>Средства криптографической защиты информации\\t...</td>\n",
       "      <td>Полный день</td>\n",
       "      <td>От 3 до 6 лет</td>\n",
       "      <td>Полная занятость</td>\n",
       "      <td>NaN</td>\n",
       "      <td>NaN</td>\n",
       "      <td>130</td>\n",
       "      <td>4903713</td>\n",
       "    </tr>\n",
       "    <tr>\n",
       "      <th>2</th>\n",
       "      <td>54525964</td>\n",
       "      <td>Lead Java Developer to Poland</td>\n",
       "      <td>Spring Framework\\tSQL\\tHibernate ORM\\tJava\\tGit</td>\n",
       "      <td>Удаленная работа</td>\n",
       "      <td>От 3 до 6 лет</td>\n",
       "      <td>Полная занятость</td>\n",
       "      <td>NaN</td>\n",
       "      <td>NaN</td>\n",
       "      <td>160</td>\n",
       "      <td>69961</td>\n",
       "    </tr>\n",
       "    <tr>\n",
       "      <th>3</th>\n",
       "      <td>54525965</td>\n",
       "      <td>Lead Java Developer to Poland</td>\n",
       "      <td>Spring Framework\\tSQL\\tHibernate ORM\\tJava\\tGit</td>\n",
       "      <td>Удаленная работа</td>\n",
       "      <td>От 3 до 6 лет</td>\n",
       "      <td>Полная занятость</td>\n",
       "      <td>NaN</td>\n",
       "      <td>NaN</td>\n",
       "      <td>159</td>\n",
       "      <td>69961</td>\n",
       "    </tr>\n",
       "    <tr>\n",
       "      <th>4</th>\n",
       "      <td>55354053</td>\n",
       "      <td>Специалист службы поддержки с техническими зна...</td>\n",
       "      <td>None</td>\n",
       "      <td>Удаленная работа</td>\n",
       "      <td>Нет опыта</td>\n",
       "      <td>Частичная занятость</td>\n",
       "      <td>15000.0</td>\n",
       "      <td>NaN</td>\n",
       "      <td>1955</td>\n",
       "      <td>1740</td>\n",
       "    </tr>\n",
       "    <tr>\n",
       "      <th>...</th>\n",
       "      <td>...</td>\n",
       "      <td>...</td>\n",
       "      <td>...</td>\n",
       "      <td>...</td>\n",
       "      <td>...</td>\n",
       "      <td>...</td>\n",
       "      <td>...</td>\n",
       "      <td>...</td>\n",
       "      <td>...</td>\n",
       "      <td>...</td>\n",
       "    </tr>\n",
       "    <tr>\n",
       "      <th>49192</th>\n",
       "      <td>55589514</td>\n",
       "      <td>Специалист по информационным технологиям</td>\n",
       "      <td>Электронный документооборот\\t1С: Предприятие 8...</td>\n",
       "      <td>Полный день</td>\n",
       "      <td>От 3 до 6 лет</td>\n",
       "      <td>Полная занятость</td>\n",
       "      <td>NaN</td>\n",
       "      <td>NaN</td>\n",
       "      <td>66</td>\n",
       "      <td>5109332</td>\n",
       "    </tr>\n",
       "    <tr>\n",
       "      <th>49193</th>\n",
       "      <td>55029668</td>\n",
       "      <td>Руководитель процессного офиса</td>\n",
       "      <td>Оптимизация бизнес-процессов\\tСтратегическое м...</td>\n",
       "      <td>Полный день</td>\n",
       "      <td>От 3 до 6 лет</td>\n",
       "      <td>Полная занятость</td>\n",
       "      <td>NaN</td>\n",
       "      <td>NaN</td>\n",
       "      <td>26</td>\n",
       "      <td>51333</td>\n",
       "    </tr>\n",
       "    <tr>\n",
       "      <th>49194</th>\n",
       "      <td>66172263</td>\n",
       "      <td>Начальник сервисной службы</td>\n",
       "      <td>Организаторские навыки\\tУправление персоналом\\...</td>\n",
       "      <td>Полный день</td>\n",
       "      <td>От 1 года до 3 лет</td>\n",
       "      <td>Полная занятость</td>\n",
       "      <td>60000.0</td>\n",
       "      <td>NaN</td>\n",
       "      <td>1930</td>\n",
       "      <td>4094700</td>\n",
       "    </tr>\n",
       "    <tr>\n",
       "      <th>49195</th>\n",
       "      <td>66180086</td>\n",
       "      <td>Senior IOS разработчик</td>\n",
       "      <td>Swift\\tRealm\\tiOS\\tАнглийский язык\\tMVP\\tMVVM\\...</td>\n",
       "      <td>Полный день</td>\n",
       "      <td>От 1 года до 3 лет</td>\n",
       "      <td>Полная занятость</td>\n",
       "      <td>146456.0</td>\n",
       "      <td>244094.0</td>\n",
       "      <td>160</td>\n",
       "      <td>4469939</td>\n",
       "    </tr>\n",
       "    <tr>\n",
       "      <th>49196</th>\n",
       "      <td>55547842</td>\n",
       "      <td>DataOps Engineer</td>\n",
       "      <td>None</td>\n",
       "      <td>Удаленная работа</td>\n",
       "      <td>От 3 до 6 лет</td>\n",
       "      <td>Полная занятость</td>\n",
       "      <td>NaN</td>\n",
       "      <td>NaN</td>\n",
       "      <td>160</td>\n",
       "      <td>4978627</td>\n",
       "    </tr>\n",
       "  </tbody>\n",
       "</table>\n",
       "<p>49197 rows × 10 columns</p>\n",
       "</div>"
      ],
      "text/plain": [
       "             id                                               name  \\\n",
       "0      55312386                                Компьютерный Мастер   \n",
       "1      55843014                            Системный администратор   \n",
       "2      54525964                      Lead Java Developer to Poland   \n",
       "3      54525965                      Lead Java Developer to Poland   \n",
       "4      55354053  Специалист службы поддержки с техническими зна...   \n",
       "...         ...                                                ...   \n",
       "49192  55589514           Специалист по информационным технологиям   \n",
       "49193  55029668                     Руководитель процессного офиса   \n",
       "49194  66172263                         Начальник сервисной службы   \n",
       "49195  66180086                             Senior IOS разработчик   \n",
       "49196  55547842                                   DataOps Engineer   \n",
       "\n",
       "                                              key_skills          schedule  \\\n",
       "0      Пользователь ПК\\tРабота в команде\\tРемонт ноут...       Полный день   \n",
       "1      Средства криптографической защиты информации\\t...       Полный день   \n",
       "2        Spring Framework\\tSQL\\tHibernate ORM\\tJava\\tGit  Удаленная работа   \n",
       "3        Spring Framework\\tSQL\\tHibernate ORM\\tJava\\tGit  Удаленная работа   \n",
       "4                                                   None  Удаленная работа   \n",
       "...                                                  ...               ...   \n",
       "49192  Электронный документооборот\\t1С: Предприятие 8...       Полный день   \n",
       "49193  Оптимизация бизнес-процессов\\tСтратегическое м...       Полный день   \n",
       "49194  Организаторские навыки\\tУправление персоналом\\...       Полный день   \n",
       "49195  Swift\\tRealm\\tiOS\\tАнглийский язык\\tMVP\\tMVVM\\...       Полный день   \n",
       "49196                                               None  Удаленная работа   \n",
       "\n",
       "               experience           employment  salary_from  salary_to  \\\n",
       "0               Нет опыта     Полная занятость      64000.0        NaN   \n",
       "1           От 3 до 6 лет     Полная занятость          NaN        NaN   \n",
       "2           От 3 до 6 лет     Полная занятость          NaN        NaN   \n",
       "3           От 3 до 6 лет     Полная занятость          NaN        NaN   \n",
       "4               Нет опыта  Частичная занятость      15000.0        NaN   \n",
       "...                   ...                  ...          ...        ...   \n",
       "49192       От 3 до 6 лет     Полная занятость          NaN        NaN   \n",
       "49193       От 3 до 6 лет     Полная занятость          NaN        NaN   \n",
       "49194  От 1 года до 3 лет     Полная занятость      60000.0        NaN   \n",
       "49195  От 1 года до 3 лет     Полная занятость     146456.0   244094.0   \n",
       "49196       От 3 до 6 лет     Полная занятость          NaN        NaN   \n",
       "\n",
       "       area_id  employer_id  \n",
       "0         1516      5724811  \n",
       "1          130      4903713  \n",
       "2          160        69961  \n",
       "3          159        69961  \n",
       "4         1955         1740  \n",
       "...        ...          ...  \n",
       "49192       66      5109332  \n",
       "49193       26        51333  \n",
       "49194     1930      4094700  \n",
       "49195      160      4469939  \n",
       "49196      160      4978627  \n",
       "\n",
       "[49197 rows x 10 columns]"
      ]
     },
     "execution_count": 5,
     "metadata": {},
     "output_type": "execute_result"
    }
   ],
   "source": [
    "# результат запроса\n",
    "vacancies_df = pd.read_sql_query(query_1, connection)\n",
    "vacancies_df"
   ]
  },
  {
   "cell_type": "markdown",
   "metadata": {
    "id": "b583485d-1f9e-494e-ada4-80ffff7c53d6"
   },
   "source": [
    "2. Напишите запрос, который посчитает количество работодателей (таблица employers). "
   ]
  },
  {
   "cell_type": "code",
   "execution_count": 6,
   "metadata": {
    "id": "5408c52c-3407-4a63-b25b-1aafa2322d28"
   },
   "outputs": [],
   "source": [
    "# текст запроса\n",
    "query_2 = f'''select * \n",
    "            from employers\n",
    "         '''\n",
    "# Аналогично, смотрим всю таблицу, количество работодателей равно количеству строк талбицы"
   ]
  },
  {
   "cell_type": "code",
   "execution_count": 7,
   "metadata": {
    "id": "jVL4eshKhdqc"
   },
   "outputs": [
    {
     "data": {
      "text/html": [
       "<div>\n",
       "<style scoped>\n",
       "    .dataframe tbody tr th:only-of-type {\n",
       "        vertical-align: middle;\n",
       "    }\n",
       "\n",
       "    .dataframe tbody tr th {\n",
       "        vertical-align: top;\n",
       "    }\n",
       "\n",
       "    .dataframe thead th {\n",
       "        text-align: right;\n",
       "    }\n",
       "</style>\n",
       "<table border=\"1\" class=\"dataframe\">\n",
       "  <thead>\n",
       "    <tr style=\"text-align: right;\">\n",
       "      <th></th>\n",
       "      <th>id</th>\n",
       "      <th>name</th>\n",
       "      <th>area</th>\n",
       "    </tr>\n",
       "  </thead>\n",
       "  <tbody>\n",
       "    <tr>\n",
       "      <th>0</th>\n",
       "      <td>2393</td>\n",
       "      <td>Программный Продукт, ИТ-компания</td>\n",
       "      <td>1</td>\n",
       "    </tr>\n",
       "    <tr>\n",
       "      <th>1</th>\n",
       "      <td>72977</td>\n",
       "      <td>БАРС Груп</td>\n",
       "      <td>88</td>\n",
       "    </tr>\n",
       "    <tr>\n",
       "      <th>2</th>\n",
       "      <td>3155</td>\n",
       "      <td>Бест, Торгово-производственная компания, Екате...</td>\n",
       "      <td>3</td>\n",
       "    </tr>\n",
       "    <tr>\n",
       "      <th>3</th>\n",
       "      <td>675</td>\n",
       "      <td>КОРУС Консалтинг</td>\n",
       "      <td>2</td>\n",
       "    </tr>\n",
       "    <tr>\n",
       "      <th>4</th>\n",
       "      <td>1840010</td>\n",
       "      <td>филиал ФКУ Налог-Сервис ФНС России в Республик...</td>\n",
       "      <td>88</td>\n",
       "    </tr>\n",
       "    <tr>\n",
       "      <th>...</th>\n",
       "      <td>...</td>\n",
       "      <td>...</td>\n",
       "      <td>...</td>\n",
       "    </tr>\n",
       "    <tr>\n",
       "      <th>23496</th>\n",
       "      <td>1441774</td>\n",
       "      <td>МарКо</td>\n",
       "      <td>88</td>\n",
       "    </tr>\n",
       "    <tr>\n",
       "      <th>23497</th>\n",
       "      <td>4718575</td>\n",
       "      <td>MKomov Studio</td>\n",
       "      <td>73</td>\n",
       "    </tr>\n",
       "    <tr>\n",
       "      <th>23498</th>\n",
       "      <td>3702770</td>\n",
       "      <td>АКИБ Ипотека-банк</td>\n",
       "      <td>2759</td>\n",
       "    </tr>\n",
       "    <tr>\n",
       "      <th>23499</th>\n",
       "      <td>5636092</td>\n",
       "      <td>ГИМ-КЛИНИКА</td>\n",
       "      <td>99</td>\n",
       "    </tr>\n",
       "    <tr>\n",
       "      <th>23500</th>\n",
       "      <td>2064382</td>\n",
       "      <td>Рыббла</td>\n",
       "      <td>104</td>\n",
       "    </tr>\n",
       "  </tbody>\n",
       "</table>\n",
       "<p>23501 rows × 3 columns</p>\n",
       "</div>"
      ],
      "text/plain": [
       "            id                                               name  area\n",
       "0         2393                   Программный Продукт, ИТ-компания     1\n",
       "1        72977                                          БАРС Груп    88\n",
       "2         3155  Бест, Торгово-производственная компания, Екате...     3\n",
       "3          675                                   КОРУС Консалтинг     2\n",
       "4      1840010  филиал ФКУ Налог-Сервис ФНС России в Республик...    88\n",
       "...        ...                                                ...   ...\n",
       "23496  1441774                                              МарКо    88\n",
       "23497  4718575                                      MKomov Studio    73\n",
       "23498  3702770                                  АКИБ Ипотека-банк  2759\n",
       "23499  5636092                                        ГИМ-КЛИНИКА    99\n",
       "23500  2064382                                             Рыббла   104\n",
       "\n",
       "[23501 rows x 3 columns]"
      ]
     },
     "execution_count": 7,
     "metadata": {},
     "output_type": "execute_result"
    }
   ],
   "source": [
    "# результат запроса\n",
    "employers_df = pd.read_sql_query(query_2, connection)\n",
    "employers_df"
   ]
  },
  {
   "cell_type": "markdown",
   "metadata": {
    "id": "a2bfff1f-c975-4bf6-84be-2185d79dcb76"
   },
   "source": [
    "3. Посчитате с помощью запроса количество регионов (таблица areas)."
   ]
  },
  {
   "cell_type": "code",
   "execution_count": 8,
   "metadata": {
    "id": "1m8QJwBYhey6"
   },
   "outputs": [],
   "source": [
    "# текст запроса\n",
    "query_3 = f'''select *\n",
    "             from areas\n",
    "             '''\n",
    "# количество регионов равно количеству строк"
   ]
  },
  {
   "cell_type": "code",
   "execution_count": 9,
   "metadata": {
    "id": "EZsn9tlfhe7f"
   },
   "outputs": [
    {
     "data": {
      "text/html": [
       "<div>\n",
       "<style scoped>\n",
       "    .dataframe tbody tr th:only-of-type {\n",
       "        vertical-align: middle;\n",
       "    }\n",
       "\n",
       "    .dataframe tbody tr th {\n",
       "        vertical-align: top;\n",
       "    }\n",
       "\n",
       "    .dataframe thead th {\n",
       "        text-align: right;\n",
       "    }\n",
       "</style>\n",
       "<table border=\"1\" class=\"dataframe\">\n",
       "  <thead>\n",
       "    <tr style=\"text-align: right;\">\n",
       "      <th></th>\n",
       "      <th>id</th>\n",
       "      <th>name</th>\n",
       "    </tr>\n",
       "  </thead>\n",
       "  <tbody>\n",
       "    <tr>\n",
       "      <th>0</th>\n",
       "      <td>2758</td>\n",
       "      <td>Тбилиси</td>\n",
       "    </tr>\n",
       "    <tr>\n",
       "      <th>1</th>\n",
       "      <td>8</td>\n",
       "      <td>Майкоп</td>\n",
       "    </tr>\n",
       "    <tr>\n",
       "      <th>2</th>\n",
       "      <td>1180</td>\n",
       "      <td>Нерюнгри</td>\n",
       "    </tr>\n",
       "    <tr>\n",
       "      <th>3</th>\n",
       "      <td>1240</td>\n",
       "      <td>Новокузнецк</td>\n",
       "    </tr>\n",
       "    <tr>\n",
       "      <th>4</th>\n",
       "      <td>2</td>\n",
       "      <td>Санкт-Петербург</td>\n",
       "    </tr>\n",
       "    <tr>\n",
       "      <th>...</th>\n",
       "      <td>...</td>\n",
       "      <td>...</td>\n",
       "    </tr>\n",
       "    <tr>\n",
       "      <th>1357</th>\n",
       "      <td>5043</td>\n",
       "      <td>Звёздный Городок</td>\n",
       "    </tr>\n",
       "    <tr>\n",
       "      <th>1358</th>\n",
       "      <td>3934</td>\n",
       "      <td>Воротынск\\n</td>\n",
       "    </tr>\n",
       "    <tr>\n",
       "      <th>1359</th>\n",
       "      <td>4825</td>\n",
       "      <td>Чемал</td>\n",
       "    </tr>\n",
       "    <tr>\n",
       "      <th>1360</th>\n",
       "      <td>3708</td>\n",
       "      <td>Усть-Нера</td>\n",
       "    </tr>\n",
       "    <tr>\n",
       "      <th>1361</th>\n",
       "      <td>2432</td>\n",
       "      <td>Каневская</td>\n",
       "    </tr>\n",
       "  </tbody>\n",
       "</table>\n",
       "<p>1362 rows × 2 columns</p>\n",
       "</div>"
      ],
      "text/plain": [
       "        id              name\n",
       "0     2758           Тбилиси\n",
       "1        8            Майкоп\n",
       "2     1180          Нерюнгри\n",
       "3     1240       Новокузнецк\n",
       "4        2   Санкт-Петербург\n",
       "...    ...               ...\n",
       "1357  5043  Звёздный Городок\n",
       "1358  3934       Воротынск\\n\n",
       "1359  4825             Чемал\n",
       "1360  3708         Усть-Нера\n",
       "1361  2432         Каневская\n",
       "\n",
       "[1362 rows x 2 columns]"
      ]
     },
     "execution_count": 9,
     "metadata": {},
     "output_type": "execute_result"
    }
   ],
   "source": [
    "# результат запроса\n",
    "areas_df=pd.read_sql_query(query_3, connection)\n",
    "areas_df"
   ]
  },
  {
   "cell_type": "markdown",
   "metadata": {
    "id": "41bb59f3-53cc-4a67-a5bc-bedf573955e4"
   },
   "source": [
    "4. Посчитате с помощью запроса количество сфер деятельности в базе (таблица industries)."
   ]
  },
  {
   "cell_type": "code",
   "execution_count": 10,
   "metadata": {
    "id": "d286cf4c-707b-4cd2-9190-7ab3587d04a1"
   },
   "outputs": [],
   "source": [
    "# текст запроса\n",
    "query_4 = f'''select *\n",
    "           from industries\n",
    "           '''\n",
    "# количество сфер деятельности равно количеству строк"
   ]
  },
  {
   "cell_type": "code",
   "execution_count": 11,
   "metadata": {
    "id": "JYAaoZ4qhfzW"
   },
   "outputs": [
    {
     "data": {
      "text/html": [
       "<div>\n",
       "<style scoped>\n",
       "    .dataframe tbody tr th:only-of-type {\n",
       "        vertical-align: middle;\n",
       "    }\n",
       "\n",
       "    .dataframe tbody tr th {\n",
       "        vertical-align: top;\n",
       "    }\n",
       "\n",
       "    .dataframe thead th {\n",
       "        text-align: right;\n",
       "    }\n",
       "</style>\n",
       "<table border=\"1\" class=\"dataframe\">\n",
       "  <thead>\n",
       "    <tr style=\"text-align: right;\">\n",
       "      <th></th>\n",
       "      <th>id</th>\n",
       "      <th>name</th>\n",
       "    </tr>\n",
       "  </thead>\n",
       "  <tbody>\n",
       "    <tr>\n",
       "      <th>0</th>\n",
       "      <td>7.540</td>\n",
       "      <td>Разработка программного обеспечения</td>\n",
       "    </tr>\n",
       "    <tr>\n",
       "      <th>1</th>\n",
       "      <td>7.539</td>\n",
       "      <td>Системная интеграция,  автоматизации технологи...</td>\n",
       "    </tr>\n",
       "    <tr>\n",
       "      <th>2</th>\n",
       "      <td>27.550</td>\n",
       "      <td>Безалкогольные напитки (производство)</td>\n",
       "    </tr>\n",
       "    <tr>\n",
       "      <th>3</th>\n",
       "      <td>27.551</td>\n",
       "      <td>Безалкогольные напитки (продвижение, оптовая т...</td>\n",
       "    </tr>\n",
       "    <tr>\n",
       "      <th>4</th>\n",
       "      <td>13.664</td>\n",
       "      <td>Управление и эксплуатация недвижимости</td>\n",
       "    </tr>\n",
       "    <tr>\n",
       "      <th>...</th>\n",
       "      <td>...</td>\n",
       "      <td>...</td>\n",
       "    </tr>\n",
       "    <tr>\n",
       "      <th>289</th>\n",
       "      <td>37.626</td>\n",
       "      <td>Ассоциация в сфере культуры, искусства</td>\n",
       "    </tr>\n",
       "    <tr>\n",
       "      <th>290</th>\n",
       "      <td>42.603</td>\n",
       "      <td>Табак  (производство)</td>\n",
       "    </tr>\n",
       "    <tr>\n",
       "      <th>291</th>\n",
       "      <td>29.532</td>\n",
       "      <td>Рыболовство, рыбоводство</td>\n",
       "    </tr>\n",
       "    <tr>\n",
       "      <th>292</th>\n",
       "      <td>37.627</td>\n",
       "      <td>Благотворительная организация</td>\n",
       "    </tr>\n",
       "    <tr>\n",
       "      <th>293</th>\n",
       "      <td>388.505</td>\n",
       "      <td>Оборудование для деревообработки, заготовки ле...</td>\n",
       "    </tr>\n",
       "  </tbody>\n",
       "</table>\n",
       "<p>294 rows × 2 columns</p>\n",
       "</div>"
      ],
      "text/plain": [
       "          id                                               name\n",
       "0      7.540                Разработка программного обеспечения\n",
       "1      7.539  Системная интеграция,  автоматизации технологи...\n",
       "2     27.550              Безалкогольные напитки (производство)\n",
       "3     27.551  Безалкогольные напитки (продвижение, оптовая т...\n",
       "4     13.664             Управление и эксплуатация недвижимости\n",
       "..       ...                                                ...\n",
       "289   37.626             Ассоциация в сфере культуры, искусства\n",
       "290   42.603                              Табак  (производство)\n",
       "291   29.532                           Рыболовство, рыбоводство\n",
       "292   37.627                      Благотворительная организация\n",
       "293  388.505  Оборудование для деревообработки, заготовки ле...\n",
       "\n",
       "[294 rows x 2 columns]"
      ]
     },
     "execution_count": 11,
     "metadata": {},
     "output_type": "execute_result"
    }
   ],
   "source": [
    "# результат запроса\n",
    "industries_df = pd.read_sql_query(query_4, connection)\n",
    "industries_df"
   ]
  },
  {
   "cell_type": "code",
   "execution_count": 16,
   "metadata": {},
   "outputs": [],
   "source": [
    "# Сделаем дополнительный запрос о работадателях, у которых нет размещенных вакансий\n",
    "query_e = f'''select count(e.id) \n",
    "            from employers e\n",
    "            left join vacancies v on e.id=v.employer_id\n",
    "            where v.id is NULL \n",
    "         '''"
   ]
  },
  {
   "cell_type": "code",
   "execution_count": 18,
   "metadata": {},
   "outputs": [
    {
     "name": "stdout",
     "output_type": "stream",
     "text": [
      "У 8595 работодателей нет размещенных вакансий\n"
     ]
    }
   ],
   "source": [
    "emp_count_null = pd.read_sql_query(query_e, connection)\n",
    "print('У {} работодателей нет размещенных вакансий'.format(emp_count_null['count'][0]))"
   ]
  },
  {
   "cell_type": "markdown",
   "metadata": {
    "id": "9a8a2181-6914-448b-85f1-38f5f18b8a93"
   },
   "source": [
    "***"
   ]
  },
  {
   "cell_type": "markdown",
   "metadata": {
    "id": "be4e9bd3-a4db-4a20-82fb-6b02fc2957e0"
   },
   "source": [
    "## выводы по предварительному анализу данных\n",
    "\n",
    "По запросам видим, что на 23,5 тысячи работодателей около 50 тысяч вакансий - не так уж много, поэтому сделаем доп. запрос и посмотрим сколько работодателей не имеют активных вакансий.\n",
    "\n",
    "Из доп. запроса видим, что 8,5 тысяч (около трети) работодателей из базы не размещают вакансии. Это может говорить о том, что либо многие закрылись, либо размещают вакансии под другим юр. лицом, в предприятиях минимальная текучка кадров и нет необходимости в новых сотрудниках. Так же может быть признаком снижения числа вакансий, сокращения рабочих мест. (Здесь интересно было бы посмотреть данные за более поздние периоды)\n",
    "\n",
    "По запросу видим, что около 300 сфер деятельности, достаточно разнообразно.\n",
    "Около 1,3 тысячи регионов указаны, что очень много, то есть вакансии представлены не только крупными городами, но и очень много небольших населенных пунктов, так же в регионах видим страны города ближнего зарубежья."
   ]
  },
  {
   "cell_type": "markdown",
   "metadata": {
    "id": "8d62a9f3-f64e-4fe7-bdac-c4dffa16155e"
   },
   "source": [
    "# Юнит 4. Детальный анализ вакансий"
   ]
  },
  {
   "cell_type": "markdown",
   "metadata": {
    "id": "93053d3d-b284-481a-9cf7-012d7014c0e0"
   },
   "source": [
    "1. Напишите запрос, который позволит узнать, сколько (cnt) вакансий в каждом регионе (area).\n",
    "Отсортируйте по количеству вакансий в порядке убывания."
   ]
  },
  {
   "cell_type": "code",
   "execution_count": 19,
   "metadata": {
    "id": "3f069da6-fdc9-4ae7-b514-fafe2675efd3"
   },
   "outputs": [],
   "source": [
    "# текст запроса\n",
    "query_5 = f'''select a.name area, count(v.id) cnt\n",
    "           from vacancies v \n",
    "           join areas a on v.area_id=a.id\n",
    "           group by area\n",
    "           order by cnt desc\n",
    "           '''"
   ]
  },
  {
   "cell_type": "code",
   "execution_count": 23,
   "metadata": {
    "id": "P7QL86hrjhRJ"
   },
   "outputs": [
    {
     "data": {
      "text/html": [
       "<div>\n",
       "<style scoped>\n",
       "    .dataframe tbody tr th:only-of-type {\n",
       "        vertical-align: middle;\n",
       "    }\n",
       "\n",
       "    .dataframe tbody tr th {\n",
       "        vertical-align: top;\n",
       "    }\n",
       "\n",
       "    .dataframe thead th {\n",
       "        text-align: right;\n",
       "    }\n",
       "</style>\n",
       "<table border=\"1\" class=\"dataframe\">\n",
       "  <thead>\n",
       "    <tr style=\"text-align: right;\">\n",
       "      <th></th>\n",
       "      <th>area</th>\n",
       "      <th>cnt</th>\n",
       "    </tr>\n",
       "  </thead>\n",
       "  <tbody>\n",
       "    <tr>\n",
       "      <th>0</th>\n",
       "      <td>Москва</td>\n",
       "      <td>5333</td>\n",
       "    </tr>\n",
       "    <tr>\n",
       "      <th>1</th>\n",
       "      <td>Санкт-Петербург</td>\n",
       "      <td>2851</td>\n",
       "    </tr>\n",
       "    <tr>\n",
       "      <th>2</th>\n",
       "      <td>Минск</td>\n",
       "      <td>2112</td>\n",
       "    </tr>\n",
       "    <tr>\n",
       "      <th>3</th>\n",
       "      <td>Новосибирск</td>\n",
       "      <td>2006</td>\n",
       "    </tr>\n",
       "    <tr>\n",
       "      <th>4</th>\n",
       "      <td>Алматы</td>\n",
       "      <td>1892</td>\n",
       "    </tr>\n",
       "    <tr>\n",
       "      <th>5</th>\n",
       "      <td>Екатеринбург</td>\n",
       "      <td>1698</td>\n",
       "    </tr>\n",
       "  </tbody>\n",
       "</table>\n",
       "</div>"
      ],
      "text/plain": [
       "              area   cnt\n",
       "0           Москва  5333\n",
       "1  Санкт-Петербург  2851\n",
       "2            Минск  2112\n",
       "3      Новосибирск  2006\n",
       "4           Алматы  1892\n",
       "5     Екатеринбург  1698"
      ]
     },
     "execution_count": 23,
     "metadata": {},
     "output_type": "execute_result"
    }
   ],
   "source": [
    "# результат запроса\n",
    "area_vac_df=pd.read_sql_query(query_5, connection)\n",
    "area_vac_df.head(6)"
   ]
  },
  {
   "cell_type": "markdown",
   "metadata": {
    "id": "4266f0b6-1646-492a-88b4-2f6a46502135"
   },
   "source": [
    "2. Напишите запрос, чтобы определить у какого количества вакансий заполнено хотя бы одно из двух полей с зарплатой."
   ]
  },
  {
   "cell_type": "code",
   "execution_count": 6,
   "metadata": {
    "id": "0c44b350-72eb-4d65-8b54-a1fc449ba9fd"
   },
   "outputs": [],
   "source": [
    "# текст запроса\n",
    "query_6 = f'''select count(*)\n",
    "           from vacancies\n",
    "           where salary_from is not NULL or salary_to is not NULL\n",
    "           '''"
   ]
  },
  {
   "cell_type": "code",
   "execution_count": 17,
   "metadata": {
    "id": "rhvwaMDkoWTi"
   },
   "outputs": [
    {
     "name": "stdout",
     "output_type": "stream",
     "text": [
      "У 24073 вакансий заполнены поля с зарплатой\n"
     ]
    }
   ],
   "source": [
    "# результат запроса\n",
    "salary_fill=pd.read_sql_query(query_6, connection)\n",
    "print('У {} вакансий заполнены поля с зарплатой'.format(salary_fill['count'][0]))"
   ]
  },
  {
   "cell_type": "markdown",
   "metadata": {
    "id": "635c4d5d-f323-4c66-b428-50a088120aa0"
   },
   "source": [
    "3. Найдите средние значения для нижней и верхней границы зарплатной вилки. Округлите значения до целого."
   ]
  },
  {
   "cell_type": "code",
   "execution_count": 24,
   "metadata": {
    "id": "603cdbe4-0ec3-4106-8eaf-c73fcdd29165"
   },
   "outputs": [],
   "source": [
    "# текст запроса\n",
    "query_7 = f'''select round(avg(salary_from),0) avg_from, round(avg(salary_to),0) avg_to\n",
    "           from vacancies\n",
    "           '''"
   ]
  },
  {
   "cell_type": "code",
   "execution_count": 25,
   "metadata": {
    "id": "pswpAb66ovZZ"
   },
   "outputs": [
    {
     "data": {
      "text/html": [
       "<div>\n",
       "<style scoped>\n",
       "    .dataframe tbody tr th:only-of-type {\n",
       "        vertical-align: middle;\n",
       "    }\n",
       "\n",
       "    .dataframe tbody tr th {\n",
       "        vertical-align: top;\n",
       "    }\n",
       "\n",
       "    .dataframe thead th {\n",
       "        text-align: right;\n",
       "    }\n",
       "</style>\n",
       "<table border=\"1\" class=\"dataframe\">\n",
       "  <thead>\n",
       "    <tr style=\"text-align: right;\">\n",
       "      <th></th>\n",
       "      <th>avg_from</th>\n",
       "      <th>avg_to</th>\n",
       "    </tr>\n",
       "  </thead>\n",
       "  <tbody>\n",
       "    <tr>\n",
       "      <th>0</th>\n",
       "      <td>71065.0</td>\n",
       "      <td>110537.0</td>\n",
       "    </tr>\n",
       "  </tbody>\n",
       "</table>\n",
       "</div>"
      ],
      "text/plain": [
       "   avg_from    avg_to\n",
       "0   71065.0  110537.0"
      ]
     },
     "execution_count": 25,
     "metadata": {},
     "output_type": "execute_result"
    }
   ],
   "source": [
    "# результат запроса\n",
    "salary_avg=pd.read_sql_query(query_7, connection)\n",
    "salary_avg"
   ]
  },
  {
   "cell_type": "code",
   "execution_count": 75,
   "metadata": {},
   "outputs": [],
   "source": [
    "# Смотря на предыдуший запрос, хочется посмотреть на среднюю предлагаемую зарплату по отрослям.\n",
    "# Поэтому сделаем дополнительный запрос: выведем название отрасли, среднюю зарплату (посмотрим на нижнюю границу) и\n",
    "# количество вакансии в отрасли, уберем отрасли, где вакансий меньше 10\n",
    "# отсортируем по средней ЗП в порядке убивания\n",
    "\n",
    "query_i = f'''select i.name industry, round(avg(v.salary_from),0) avg_from, count(v.id)\n",
    "           from vacancies v\n",
    "           join employers_industries ei on v.employer_id=ei.employer_id\n",
    "           join industries i on ei.industry_id=i.id\n",
    "           where (v.salary_from is not NULL)\n",
    "           group by i.name\n",
    "           having count(v.id)>=10\n",
    "           order by 2 desc\n",
    "                     '''"
   ]
  },
  {
   "cell_type": "code",
   "execution_count": 76,
   "metadata": {},
   "outputs": [
    {
     "data": {
      "text/html": [
       "<div>\n",
       "<style scoped>\n",
       "    .dataframe tbody tr th:only-of-type {\n",
       "        vertical-align: middle;\n",
       "    }\n",
       "\n",
       "    .dataframe tbody tr th {\n",
       "        vertical-align: top;\n",
       "    }\n",
       "\n",
       "    .dataframe thead th {\n",
       "        text-align: right;\n",
       "    }\n",
       "</style>\n",
       "<table border=\"1\" class=\"dataframe\">\n",
       "  <thead>\n",
       "    <tr style=\"text-align: right;\">\n",
       "      <th></th>\n",
       "      <th>industry</th>\n",
       "      <th>avg_from</th>\n",
       "      <th>count</th>\n",
       "    </tr>\n",
       "  </thead>\n",
       "  <tbody>\n",
       "    <tr>\n",
       "      <th>0</th>\n",
       "      <td>Агрохимия (продвижение, оптовая торговля)</td>\n",
       "      <td>403077.0</td>\n",
       "      <td>13</td>\n",
       "    </tr>\n",
       "    <tr>\n",
       "      <th>1</th>\n",
       "      <td>Агрохимия (производство)</td>\n",
       "      <td>338625.0</td>\n",
       "      <td>16</td>\n",
       "    </tr>\n",
       "    <tr>\n",
       "      <th>2</th>\n",
       "      <td>Игорный бизнес</td>\n",
       "      <td>147993.0</td>\n",
       "      <td>11</td>\n",
       "    </tr>\n",
       "    <tr>\n",
       "      <th>3</th>\n",
       "      <td>Зоомагазин</td>\n",
       "      <td>137419.0</td>\n",
       "      <td>31</td>\n",
       "    </tr>\n",
       "    <tr>\n",
       "      <th>4</th>\n",
       "      <td>Корма для животных (производство)</td>\n",
       "      <td>136024.0</td>\n",
       "      <td>29</td>\n",
       "    </tr>\n",
       "    <tr>\n",
       "      <th>5</th>\n",
       "      <td>Бытовая химия, парфюмерия, косметика  (произво...</td>\n",
       "      <td>133807.0</td>\n",
       "      <td>70</td>\n",
       "    </tr>\n",
       "    <tr>\n",
       "      <th>6</th>\n",
       "      <td>Кадровые агентства</td>\n",
       "      <td>118131.0</td>\n",
       "      <td>575</td>\n",
       "    </tr>\n",
       "    <tr>\n",
       "      <th>7</th>\n",
       "      <td>Учреждение соц.помощи и защиты</td>\n",
       "      <td>116786.0</td>\n",
       "      <td>14</td>\n",
       "    </tr>\n",
       "    <tr>\n",
       "      <th>8</th>\n",
       "      <td>Ветеринарная деятельность</td>\n",
       "      <td>113171.0</td>\n",
       "      <td>13</td>\n",
       "    </tr>\n",
       "    <tr>\n",
       "      <th>9</th>\n",
       "      <td>Лакокрасочная продукция, сырье (производство)</td>\n",
       "      <td>106190.0</td>\n",
       "      <td>21</td>\n",
       "    </tr>\n",
       "    <tr>\n",
       "      <th>10</th>\n",
       "      <td>Управляющая, инвестиционная компания (управлен...</td>\n",
       "      <td>105287.0</td>\n",
       "      <td>71</td>\n",
       "    </tr>\n",
       "    <tr>\n",
       "      <th>11</th>\n",
       "      <td>Финансово-кредитное посредничество (биржа, бро...</td>\n",
       "      <td>100577.0</td>\n",
       "      <td>166</td>\n",
       "    </tr>\n",
       "    <tr>\n",
       "      <th>12</th>\n",
       "      <td>Бытовая химия, парфюмерия, косметика  (продвиж...</td>\n",
       "      <td>100576.0</td>\n",
       "      <td>131</td>\n",
       "    </tr>\n",
       "    <tr>\n",
       "      <th>13</th>\n",
       "      <td>Снеки (производство)</td>\n",
       "      <td>98537.0</td>\n",
       "      <td>20</td>\n",
       "    </tr>\n",
       "    <tr>\n",
       "      <th>14</th>\n",
       "      <td>Рыба и морепродукты (продвижение, оптовая торг...</td>\n",
       "      <td>97813.0</td>\n",
       "      <td>16</td>\n",
       "    </tr>\n",
       "    <tr>\n",
       "      <th>15</th>\n",
       "      <td>Корма для животных (продвижение, оптовая торго...</td>\n",
       "      <td>97447.0</td>\n",
       "      <td>53</td>\n",
       "    </tr>\n",
       "    <tr>\n",
       "      <th>16</th>\n",
       "      <td>Лакокрасочная продукция, сырье (продвижение, о...</td>\n",
       "      <td>96662.0</td>\n",
       "      <td>27</td>\n",
       "    </tr>\n",
       "    <tr>\n",
       "      <th>17</th>\n",
       "      <td>Инфраструктурная компания в энергетике (СО ЕЭС...</td>\n",
       "      <td>95749.0</td>\n",
       "      <td>124</td>\n",
       "    </tr>\n",
       "    <tr>\n",
       "      <th>18</th>\n",
       "      <td>Железнодорожные перевозки</td>\n",
       "      <td>93176.0</td>\n",
       "      <td>41</td>\n",
       "    </tr>\n",
       "    <tr>\n",
       "      <th>19</th>\n",
       "      <td>Консалтинг в области энергоэффективности</td>\n",
       "      <td>92218.0</td>\n",
       "      <td>15</td>\n",
       "    </tr>\n",
       "  </tbody>\n",
       "</table>\n",
       "</div>"
      ],
      "text/plain": [
       "                                             industry  avg_from  count\n",
       "0           Агрохимия (продвижение, оптовая торговля)  403077.0     13\n",
       "1                            Агрохимия (производство)  338625.0     16\n",
       "2                                      Игорный бизнес  147993.0     11\n",
       "3                                          Зоомагазин  137419.0     31\n",
       "4                   Корма для животных (производство)  136024.0     29\n",
       "5   Бытовая химия, парфюмерия, косметика  (произво...  133807.0     70\n",
       "6                                  Кадровые агентства  118131.0    575\n",
       "7                      Учреждение соц.помощи и защиты  116786.0     14\n",
       "8                           Ветеринарная деятельность  113171.0     13\n",
       "9       Лакокрасочная продукция, сырье (производство)  106190.0     21\n",
       "10  Управляющая, инвестиционная компания (управлен...  105287.0     71\n",
       "11  Финансово-кредитное посредничество (биржа, бро...  100577.0    166\n",
       "12  Бытовая химия, парфюмерия, косметика  (продвиж...  100576.0    131\n",
       "13                               Снеки (производство)   98537.0     20\n",
       "14  Рыба и морепродукты (продвижение, оптовая торг...   97813.0     16\n",
       "15  Корма для животных (продвижение, оптовая торго...   97447.0     53\n",
       "16  Лакокрасочная продукция, сырье (продвижение, о...   96662.0     27\n",
       "17  Инфраструктурная компания в энергетике (СО ЕЭС...   95749.0    124\n",
       "18                          Железнодорожные перевозки   93176.0     41\n",
       "19           Консалтинг в области энергоэффективности   92218.0     15"
      ]
     },
     "execution_count": 76,
     "metadata": {},
     "output_type": "execute_result"
    }
   ],
   "source": [
    "# результат запроса\n",
    "salary_avg_all=pd.read_sql_query(query_i, connection)\n",
    "salary_avg_all.head(20)"
   ]
  },
  {
   "cell_type": "markdown",
   "metadata": {
    "id": "f3fdaec9-5fd3-4260-9cf5-1d7406b628a5"
   },
   "source": [
    "4. Напишите запрос, который выведет количество вакансий для каждого сочетания типа рабочего графика (schedule) и типа трудоустройства (employment), используемого в вакансиях. Результат отсортируйте по убыванию количества.\n"
   ]
  },
  {
   "cell_type": "code",
   "execution_count": 26,
   "metadata": {
    "id": "1ea710ec-871b-431e-9462-c7d0fd87011b"
   },
   "outputs": [],
   "source": [
    "# текст запроса\n",
    "query_8 = f'''select schedule, employment, count(*) \n",
    "           from vacancies\n",
    "           group by 1,2\n",
    "           order by 3 desc\n",
    "           '''"
   ]
  },
  {
   "cell_type": "code",
   "execution_count": 9,
   "metadata": {
    "id": "lGUVqavdo4JQ"
   },
   "outputs": [
    {
     "data": {
      "text/html": [
       "<div>\n",
       "<style scoped>\n",
       "    .dataframe tbody tr th:only-of-type {\n",
       "        vertical-align: middle;\n",
       "    }\n",
       "\n",
       "    .dataframe tbody tr th {\n",
       "        vertical-align: top;\n",
       "    }\n",
       "\n",
       "    .dataframe thead th {\n",
       "        text-align: right;\n",
       "    }\n",
       "</style>\n",
       "<table border=\"1\" class=\"dataframe\">\n",
       "  <thead>\n",
       "    <tr style=\"text-align: right;\">\n",
       "      <th></th>\n",
       "      <th>schedule</th>\n",
       "      <th>employment</th>\n",
       "      <th>count</th>\n",
       "    </tr>\n",
       "  </thead>\n",
       "  <tbody>\n",
       "    <tr>\n",
       "      <th>0</th>\n",
       "      <td>Полный день</td>\n",
       "      <td>Полная занятость</td>\n",
       "      <td>35367</td>\n",
       "    </tr>\n",
       "    <tr>\n",
       "      <th>1</th>\n",
       "      <td>Удаленная работа</td>\n",
       "      <td>Полная занятость</td>\n",
       "      <td>7802</td>\n",
       "    </tr>\n",
       "    <tr>\n",
       "      <th>2</th>\n",
       "      <td>Гибкий график</td>\n",
       "      <td>Полная занятость</td>\n",
       "      <td>1593</td>\n",
       "    </tr>\n",
       "    <tr>\n",
       "      <th>3</th>\n",
       "      <td>Удаленная работа</td>\n",
       "      <td>Частичная занятость</td>\n",
       "      <td>1312</td>\n",
       "    </tr>\n",
       "    <tr>\n",
       "      <th>4</th>\n",
       "      <td>Сменный график</td>\n",
       "      <td>Полная занятость</td>\n",
       "      <td>940</td>\n",
       "    </tr>\n",
       "    <tr>\n",
       "      <th>5</th>\n",
       "      <td>Полный день</td>\n",
       "      <td>Стажировка</td>\n",
       "      <td>569</td>\n",
       "    </tr>\n",
       "    <tr>\n",
       "      <th>6</th>\n",
       "      <td>Вахтовый метод</td>\n",
       "      <td>Полная занятость</td>\n",
       "      <td>367</td>\n",
       "    </tr>\n",
       "    <tr>\n",
       "      <th>7</th>\n",
       "      <td>Полный день</td>\n",
       "      <td>Частичная занятость</td>\n",
       "      <td>347</td>\n",
       "    </tr>\n",
       "    <tr>\n",
       "      <th>8</th>\n",
       "      <td>Гибкий график</td>\n",
       "      <td>Частичная занятость</td>\n",
       "      <td>312</td>\n",
       "    </tr>\n",
       "    <tr>\n",
       "      <th>9</th>\n",
       "      <td>Полный день</td>\n",
       "      <td>Проектная работа</td>\n",
       "      <td>141</td>\n",
       "    </tr>\n",
       "    <tr>\n",
       "      <th>10</th>\n",
       "      <td>Удаленная работа</td>\n",
       "      <td>Проектная работа</td>\n",
       "      <td>133</td>\n",
       "    </tr>\n",
       "    <tr>\n",
       "      <th>11</th>\n",
       "      <td>Гибкий график</td>\n",
       "      <td>Стажировка</td>\n",
       "      <td>116</td>\n",
       "    </tr>\n",
       "    <tr>\n",
       "      <th>12</th>\n",
       "      <td>Сменный график</td>\n",
       "      <td>Частичная занятость</td>\n",
       "      <td>101</td>\n",
       "    </tr>\n",
       "    <tr>\n",
       "      <th>13</th>\n",
       "      <td>Удаленная работа</td>\n",
       "      <td>Стажировка</td>\n",
       "      <td>64</td>\n",
       "    </tr>\n",
       "    <tr>\n",
       "      <th>14</th>\n",
       "      <td>Гибкий график</td>\n",
       "      <td>Проектная работа</td>\n",
       "      <td>18</td>\n",
       "    </tr>\n",
       "    <tr>\n",
       "      <th>15</th>\n",
       "      <td>Сменный график</td>\n",
       "      <td>Стажировка</td>\n",
       "      <td>12</td>\n",
       "    </tr>\n",
       "    <tr>\n",
       "      <th>16</th>\n",
       "      <td>Вахтовый метод</td>\n",
       "      <td>Проектная работа</td>\n",
       "      <td>2</td>\n",
       "    </tr>\n",
       "    <tr>\n",
       "      <th>17</th>\n",
       "      <td>Сменный график</td>\n",
       "      <td>Проектная работа</td>\n",
       "      <td>1</td>\n",
       "    </tr>\n",
       "  </tbody>\n",
       "</table>\n",
       "</div>"
      ],
      "text/plain": [
       "            schedule           employment  count\n",
       "0        Полный день     Полная занятость  35367\n",
       "1   Удаленная работа     Полная занятость   7802\n",
       "2      Гибкий график     Полная занятость   1593\n",
       "3   Удаленная работа  Частичная занятость   1312\n",
       "4     Сменный график     Полная занятость    940\n",
       "5        Полный день           Стажировка    569\n",
       "6     Вахтовый метод     Полная занятость    367\n",
       "7        Полный день  Частичная занятость    347\n",
       "8      Гибкий график  Частичная занятость    312\n",
       "9        Полный день     Проектная работа    141\n",
       "10  Удаленная работа     Проектная работа    133\n",
       "11     Гибкий график           Стажировка    116\n",
       "12    Сменный график  Частичная занятость    101\n",
       "13  Удаленная работа           Стажировка     64\n",
       "14     Гибкий график     Проектная работа     18\n",
       "15    Сменный график           Стажировка     12\n",
       "16    Вахтовый метод     Проектная работа      2\n",
       "17    Сменный график     Проектная работа      1"
      ]
     },
     "execution_count": 9,
     "metadata": {},
     "output_type": "execute_result"
    }
   ],
   "source": [
    "# результат запроса\n",
    "sch_empl=pd.read_sql_query(query_8, connection)\n",
    "sch_empl"
   ]
  },
  {
   "cell_type": "markdown",
   "metadata": {
    "id": "0136ffee-0ead-4a6b-b608-61d1c753a438"
   },
   "source": [
    "5. Напишите запрос, выводящий значения поля Требуемый опыт работы (experience) в порядке возрастания количества вакансий, в которых указан данный вариант опыта. "
   ]
  },
  {
   "cell_type": "code",
   "execution_count": 18,
   "metadata": {
    "id": "5b3a8e79-f7ab-4008-b767-12aea3a205ea"
   },
   "outputs": [],
   "source": [
    "# текст запроса\n",
    "query_9 = f'''select experience\n",
    "           from vacancies\n",
    "           where experience is not NULL\n",
    "           group by 1\n",
    "           order by count(experience)\n",
    "           '''"
   ]
  },
  {
   "cell_type": "code",
   "execution_count": 19,
   "metadata": {
    "id": "3Is64Y-hpDpq"
   },
   "outputs": [
    {
     "data": {
      "text/html": [
       "<div>\n",
       "<style scoped>\n",
       "    .dataframe tbody tr th:only-of-type {\n",
       "        vertical-align: middle;\n",
       "    }\n",
       "\n",
       "    .dataframe tbody tr th {\n",
       "        vertical-align: top;\n",
       "    }\n",
       "\n",
       "    .dataframe thead th {\n",
       "        text-align: right;\n",
       "    }\n",
       "</style>\n",
       "<table border=\"1\" class=\"dataframe\">\n",
       "  <thead>\n",
       "    <tr style=\"text-align: right;\">\n",
       "      <th></th>\n",
       "      <th>experience</th>\n",
       "    </tr>\n",
       "  </thead>\n",
       "  <tbody>\n",
       "    <tr>\n",
       "      <th>0</th>\n",
       "      <td>Более 6 лет</td>\n",
       "    </tr>\n",
       "    <tr>\n",
       "      <th>1</th>\n",
       "      <td>Нет опыта</td>\n",
       "    </tr>\n",
       "    <tr>\n",
       "      <th>2</th>\n",
       "      <td>От 3 до 6 лет</td>\n",
       "    </tr>\n",
       "    <tr>\n",
       "      <th>3</th>\n",
       "      <td>От 1 года до 3 лет</td>\n",
       "    </tr>\n",
       "  </tbody>\n",
       "</table>\n",
       "</div>"
      ],
      "text/plain": [
       "           experience\n",
       "0         Более 6 лет\n",
       "1           Нет опыта\n",
       "2       От 3 до 6 лет\n",
       "3  От 1 года до 3 лет"
      ]
     },
     "execution_count": 19,
     "metadata": {},
     "output_type": "execute_result"
    }
   ],
   "source": [
    "# результат запроса\n",
    "exp=pd.read_sql_query(query_9, connection)\n",
    "exp"
   ]
  },
  {
   "cell_type": "markdown",
   "metadata": {
    "id": "oq2b7n1QpIka"
   },
   "source": [
    "***"
   ]
  },
  {
   "cell_type": "markdown",
   "metadata": {
    "id": "e91f87ed-e25c-4f96-9f92-b642e8c0b4fa"
   },
   "source": [
    "## выводы по детальному анализу вакансий\n",
    "\n",
    "Из запроса видим, что меньше всего вакансий с опытом работы более 6 лет. С чем это может быть связано? Можно предположить, что специалистов с большим опытом не так часто ищут с помощь hh, чаще ищут в специализированных сообществах (чатах). В целом,  хорошего опытного специалиста компания будет стараться сохранить у себя, поэтому, если сотрудник работает от 3 до 6 лет в компании и не уходит, значит его все устраивает, соответсвенно запросов на вакансии с таким опытом меншье. \n",
    "Больше всего вакансий для категории с опытом от 1 до 3 лет, что логично. Сотрудник уже более-менее опытный, требудет меньше времени на обучение и адаптацию в компании, но менее требовательный, чем соискатель с опытом от 3 лет и более.\n",
    "\n",
    "Из запроса о количестве вакансий в зависимости от сочетания типа графика и типа трудоустройства видим, что наиболее популярное сочетание - Полный день/Полная занятость, что логично. На втором месте - Удаленная работа/Полная занятость, можно сделать вывод, что все большое количество вакансий с таким типом трудоустройства и скорее всего они будут увеличиваться. Ведь удаленная работа это экнономия работодателя на аренду офиса, оборудования и каких-то схожих затратах. (Здесь также интересно посмотреть данные за прошлые периоды).\n",
    "\n",
    "Из доп. запроса видим, что наиболее выские зарплаты предлагают на производстве, в отповой торговле. По количеству ванасий с высокой ЗП, больше всего у кадровых агентств, их можно исключить, ведь они предлагают вакансий в разных сферах.\n",
    "\n",
    "Из запроса доп. запроса видим, что у половины вакансий не заполнены поля с зарплатой. Часто поле ЗП не заполняют, если на выставленную ЗП нет или очень мало откликов и/или работодатель хочет посмотреть на какую ЗП согласятся соискатели, чтоб предложить оптимальную ЗП и найти подходящего работника (это может быть для новых позиций в компании). "
   ]
  },
  {
   "cell_type": "markdown",
   "metadata": {
    "id": "7ea20ab6-04a7-40a0-adec-443a0e5a42c3"
   },
   "source": [
    "# Юнит 5. Анализ работодателей"
   ]
  },
  {
   "cell_type": "markdown",
   "metadata": {
    "id": "968aed80-74ef-4ffb-b5bf-c65b84e9caea"
   },
   "source": [
    "1. Напишите запрос, который позволит узнать, какие работодатели находятся на первом и пятом месте по количеству вакансий."
   ]
  },
  {
   "cell_type": "code",
   "execution_count": 77,
   "metadata": {
    "id": "f2d62796-d400-4ec1-a675-88112739a50e"
   },
   "outputs": [],
   "source": [
    "# текст запроса\n",
    "query_10 = f'''(select e.name\n",
    "           from vacancies v\n",
    "           join employers e on e.id=v.employer_id\n",
    "           group by 1\n",
    "           order by count(v.id) desc\n",
    "            limit 1)\n",
    "           union all\n",
    "           (select e.name\n",
    "           from vacancies v\n",
    "           join employers e on e.id=v.employer_id\n",
    "           group by 1\n",
    "           order by count(v.id) desc\n",
    "           offset 4\n",
    "           limit 1)\n",
    "           '''"
   ]
  },
  {
   "cell_type": "code",
   "execution_count": 78,
   "metadata": {
    "id": "64tOMkAxqkQk"
   },
   "outputs": [
    {
     "data": {
      "text/html": [
       "<div>\n",
       "<style scoped>\n",
       "    .dataframe tbody tr th:only-of-type {\n",
       "        vertical-align: middle;\n",
       "    }\n",
       "\n",
       "    .dataframe tbody tr th {\n",
       "        vertical-align: top;\n",
       "    }\n",
       "\n",
       "    .dataframe thead th {\n",
       "        text-align: right;\n",
       "    }\n",
       "</style>\n",
       "<table border=\"1\" class=\"dataframe\">\n",
       "  <thead>\n",
       "    <tr style=\"text-align: right;\">\n",
       "      <th></th>\n",
       "      <th>name</th>\n",
       "    </tr>\n",
       "  </thead>\n",
       "  <tbody>\n",
       "    <tr>\n",
       "      <th>0</th>\n",
       "      <td>Яндекс</td>\n",
       "    </tr>\n",
       "    <tr>\n",
       "      <th>1</th>\n",
       "      <td>Газпром нефть</td>\n",
       "    </tr>\n",
       "  </tbody>\n",
       "</table>\n",
       "</div>"
      ],
      "text/plain": [
       "            name\n",
       "0         Яндекс\n",
       "1  Газпром нефть"
      ]
     },
     "execution_count": 78,
     "metadata": {},
     "output_type": "execute_result"
    }
   ],
   "source": [
    "# результат запроса\n",
    "empl_vac=pd.read_sql_query(query_10, connection)\n",
    "empl_vac"
   ]
  },
  {
   "cell_type": "markdown",
   "metadata": {
    "id": "68377cfc-b378-43dc-ab7d-1195abf2c515"
   },
   "source": [
    "2. Напишите запрос, который для каждого региона выведет количество работодателей и вакансий в нём.\n",
    "Среди регионов, в которых нет вакансий, найдите тот, в котором наибольшее количество работодателей.\n"
   ]
  },
  {
   "cell_type": "code",
   "execution_count": 80,
   "metadata": {},
   "outputs": [],
   "source": [
    "# текст запроса\n",
    "query_11 = f'''select a.name city, count(distinct e.id) count_employers, count(distinct v.id) count_vacancies\n",
    "           from areas a\n",
    "           left join employers e on a.id=e.area\n",
    "           left join vacancies v on a.id=v.area_id\n",
    "           group by city \n",
    "           having count(distinct v.id)=0\n",
    "           order by 2 desc\n",
    "           '''"
   ]
  },
  {
   "cell_type": "code",
   "execution_count": 81,
   "metadata": {
    "id": "x1ikWbydrbf6"
   },
   "outputs": [
    {
     "data": {
      "text/html": [
       "<div>\n",
       "<style scoped>\n",
       "    .dataframe tbody tr th:only-of-type {\n",
       "        vertical-align: middle;\n",
       "    }\n",
       "\n",
       "    .dataframe tbody tr th {\n",
       "        vertical-align: top;\n",
       "    }\n",
       "\n",
       "    .dataframe thead th {\n",
       "        text-align: right;\n",
       "    }\n",
       "</style>\n",
       "<table border=\"1\" class=\"dataframe\">\n",
       "  <thead>\n",
       "    <tr style=\"text-align: right;\">\n",
       "      <th></th>\n",
       "      <th>city</th>\n",
       "      <th>count_employers</th>\n",
       "      <th>count_vacancies</th>\n",
       "    </tr>\n",
       "  </thead>\n",
       "  <tbody>\n",
       "    <tr>\n",
       "      <th>0</th>\n",
       "      <td>Россия</td>\n",
       "      <td>410</td>\n",
       "      <td>0</td>\n",
       "    </tr>\n",
       "    <tr>\n",
       "      <th>1</th>\n",
       "      <td>Казахстан</td>\n",
       "      <td>207</td>\n",
       "      <td>0</td>\n",
       "    </tr>\n",
       "    <tr>\n",
       "      <th>2</th>\n",
       "      <td>Московская область</td>\n",
       "      <td>75</td>\n",
       "      <td>0</td>\n",
       "    </tr>\n",
       "    <tr>\n",
       "      <th>3</th>\n",
       "      <td>Краснодарский край</td>\n",
       "      <td>19</td>\n",
       "      <td>0</td>\n",
       "    </tr>\n",
       "    <tr>\n",
       "      <th>4</th>\n",
       "      <td>Беларусь</td>\n",
       "      <td>18</td>\n",
       "      <td>0</td>\n",
       "    </tr>\n",
       "    <tr>\n",
       "      <th>...</th>\n",
       "      <td>...</td>\n",
       "      <td>...</td>\n",
       "      <td>...</td>\n",
       "    </tr>\n",
       "    <tr>\n",
       "      <th>588</th>\n",
       "      <td>Кувандык</td>\n",
       "      <td>0</td>\n",
       "      <td>0</td>\n",
       "    </tr>\n",
       "    <tr>\n",
       "      <th>589</th>\n",
       "      <td>Куйбышев</td>\n",
       "      <td>0</td>\n",
       "      <td>0</td>\n",
       "    </tr>\n",
       "    <tr>\n",
       "      <th>590</th>\n",
       "      <td>Куйбышево (Ростовская область)</td>\n",
       "      <td>0</td>\n",
       "      <td>0</td>\n",
       "    </tr>\n",
       "    <tr>\n",
       "      <th>591</th>\n",
       "      <td>Култаево</td>\n",
       "      <td>0</td>\n",
       "      <td>0</td>\n",
       "    </tr>\n",
       "    <tr>\n",
       "      <th>592</th>\n",
       "      <td>Кульсары</td>\n",
       "      <td>0</td>\n",
       "      <td>0</td>\n",
       "    </tr>\n",
       "  </tbody>\n",
       "</table>\n",
       "<p>593 rows × 3 columns</p>\n",
       "</div>"
      ],
      "text/plain": [
       "                               city  count_employers  count_vacancies\n",
       "0                            Россия              410                0\n",
       "1                         Казахстан              207                0\n",
       "2                Московская область               75                0\n",
       "3                Краснодарский край               19                0\n",
       "4                          Беларусь               18                0\n",
       "..                              ...              ...              ...\n",
       "588                        Кувандык                0                0\n",
       "589                        Куйбышев                0                0\n",
       "590  Куйбышево (Ростовская область)                0                0\n",
       "591                        Култаево                0                0\n",
       "592                        Кульсары                0                0\n",
       "\n",
       "[593 rows x 3 columns]"
      ]
     },
     "execution_count": 81,
     "metadata": {},
     "output_type": "execute_result"
    }
   ],
   "source": [
    "# результат запроса\n",
    "empl_vac=pd.read_sql_query(query_11, connection)\n",
    "empl_vac"
   ]
  },
  {
   "cell_type": "markdown",
   "metadata": {
    "id": "f2fe0acb-ab1a-4e15-9326-2560e22d73c1"
   },
   "source": [
    "3. Для каждого работодателя посчитайте количество регионов, в которых он публикует свои вакансии. Отсортируйте результат по убыванию количества.\n"
   ]
  },
  {
   "cell_type": "code",
   "execution_count": 82,
   "metadata": {
    "id": "6271f8ad-bd2e-4196-ae4a-5b39c4c1010e"
   },
   "outputs": [],
   "source": [
    "# текст запроса\n",
    "query_12 = f'''select e.name employers, count(distinct v.area_id) count_areas\n",
    "           from employers e\n",
    "           join vacancies v on v.employer_id=e.id\n",
    "           group by employers\n",
    "           order by count_areas desc\n",
    "           '''"
   ]
  },
  {
   "cell_type": "code",
   "execution_count": 83,
   "metadata": {
    "id": "1EIvX3HasH4F"
   },
   "outputs": [
    {
     "data": {
      "text/html": [
       "<div>\n",
       "<style scoped>\n",
       "    .dataframe tbody tr th:only-of-type {\n",
       "        vertical-align: middle;\n",
       "    }\n",
       "\n",
       "    .dataframe tbody tr th {\n",
       "        vertical-align: top;\n",
       "    }\n",
       "\n",
       "    .dataframe thead th {\n",
       "        text-align: right;\n",
       "    }\n",
       "</style>\n",
       "<table border=\"1\" class=\"dataframe\">\n",
       "  <thead>\n",
       "    <tr style=\"text-align: right;\">\n",
       "      <th></th>\n",
       "      <th>employers</th>\n",
       "      <th>count_areas</th>\n",
       "    </tr>\n",
       "  </thead>\n",
       "  <tbody>\n",
       "    <tr>\n",
       "      <th>0</th>\n",
       "      <td>Яндекс</td>\n",
       "      <td>181</td>\n",
       "    </tr>\n",
       "    <tr>\n",
       "      <th>1</th>\n",
       "      <td>Ростелеком</td>\n",
       "      <td>152</td>\n",
       "    </tr>\n",
       "    <tr>\n",
       "      <th>2</th>\n",
       "      <td>Спецремонт</td>\n",
       "      <td>116</td>\n",
       "    </tr>\n",
       "    <tr>\n",
       "      <th>3</th>\n",
       "      <td>Поляков Денис Иванович</td>\n",
       "      <td>88</td>\n",
       "    </tr>\n",
       "    <tr>\n",
       "      <th>4</th>\n",
       "      <td>ООО ЕФИН</td>\n",
       "      <td>71</td>\n",
       "    </tr>\n",
       "    <tr>\n",
       "      <th>...</th>\n",
       "      <td>...</td>\n",
       "      <td>...</td>\n",
       "    </tr>\n",
       "    <tr>\n",
       "      <th>14761</th>\n",
       "      <td>UniSol</td>\n",
       "      <td>1</td>\n",
       "    </tr>\n",
       "    <tr>\n",
       "      <th>14762</th>\n",
       "      <td>UNISTORY LLC</td>\n",
       "      <td>1</td>\n",
       "    </tr>\n",
       "    <tr>\n",
       "      <th>14763</th>\n",
       "      <td>UNIT6</td>\n",
       "      <td>1</td>\n",
       "    </tr>\n",
       "    <tr>\n",
       "      <th>14764</th>\n",
       "      <td>United Distribution</td>\n",
       "      <td>1</td>\n",
       "    </tr>\n",
       "    <tr>\n",
       "      <th>14765</th>\n",
       "      <td>UNITEL LLC</td>\n",
       "      <td>1</td>\n",
       "    </tr>\n",
       "  </tbody>\n",
       "</table>\n",
       "<p>14766 rows × 2 columns</p>\n",
       "</div>"
      ],
      "text/plain": [
       "                    employers  count_areas\n",
       "0                      Яндекс          181\n",
       "1                  Ростелеком          152\n",
       "2                  Спецремонт          116\n",
       "3      Поляков Денис Иванович           88\n",
       "4                   ООО ЕФИН            71\n",
       "...                       ...          ...\n",
       "14761                  UniSol            1\n",
       "14762            UNISTORY LLC            1\n",
       "14763                   UNIT6            1\n",
       "14764     United Distribution            1\n",
       "14765              UNITEL LLC            1\n",
       "\n",
       "[14766 rows x 2 columns]"
      ]
     },
     "execution_count": 83,
     "metadata": {},
     "output_type": "execute_result"
    }
   ],
   "source": [
    "# результат запроса\n",
    "empl_areas=pd.read_sql_query(query_12, connection)\n",
    "empl_areas"
   ]
  },
  {
   "cell_type": "code",
   "execution_count": 23,
   "metadata": {},
   "outputs": [],
   "source": [
    "# Сделаем доп. запрос чтоб посмотреть, что за вакансии размещает работодатель, находящийся на месте по количеству\n",
    "query_t = f'''select * \n",
    "           from employers e\n",
    "           join vacancies v on v.employer_id=e.id\n",
    "           where e.name='Поляков Денис Иванович'\n",
    "          '''"
   ]
  },
  {
   "cell_type": "code",
   "execution_count": 24,
   "metadata": {},
   "outputs": [
    {
     "data": {
      "text/html": [
       "<div>\n",
       "<style scoped>\n",
       "    .dataframe tbody tr th:only-of-type {\n",
       "        vertical-align: middle;\n",
       "    }\n",
       "\n",
       "    .dataframe tbody tr th {\n",
       "        vertical-align: top;\n",
       "    }\n",
       "\n",
       "    .dataframe thead th {\n",
       "        text-align: right;\n",
       "    }\n",
       "</style>\n",
       "<table border=\"1\" class=\"dataframe\">\n",
       "  <thead>\n",
       "    <tr style=\"text-align: right;\">\n",
       "      <th></th>\n",
       "      <th>id</th>\n",
       "      <th>name</th>\n",
       "      <th>area</th>\n",
       "      <th>id</th>\n",
       "      <th>name</th>\n",
       "      <th>key_skills</th>\n",
       "      <th>schedule</th>\n",
       "      <th>experience</th>\n",
       "      <th>employment</th>\n",
       "      <th>salary_from</th>\n",
       "      <th>salary_to</th>\n",
       "      <th>area_id</th>\n",
       "      <th>employer_id</th>\n",
       "    </tr>\n",
       "  </thead>\n",
       "  <tbody>\n",
       "    <tr>\n",
       "      <th>0</th>\n",
       "      <td>5130287</td>\n",
       "      <td>Поляков Денис Иванович</td>\n",
       "      <td>22</td>\n",
       "      <td>55402339</td>\n",
       "      <td>Компьютерный мастер</td>\n",
       "      <td>None</td>\n",
       "      <td>Полный день</td>\n",
       "      <td>От 1 года до 3 лет</td>\n",
       "      <td>Полная занятость</td>\n",
       "      <td>60000</td>\n",
       "      <td>NaN</td>\n",
       "      <td>1141</td>\n",
       "      <td>5130287</td>\n",
       "    </tr>\n",
       "    <tr>\n",
       "      <th>1</th>\n",
       "      <td>5130287</td>\n",
       "      <td>Поляков Денис Иванович</td>\n",
       "      <td>22</td>\n",
       "      <td>53316670</td>\n",
       "      <td>Компьютерный мастер</td>\n",
       "      <td>None</td>\n",
       "      <td>Полный день</td>\n",
       "      <td>От 1 года до 3 лет</td>\n",
       "      <td>Полная занятость</td>\n",
       "      <td>60000</td>\n",
       "      <td>NaN</td>\n",
       "      <td>47</td>\n",
       "      <td>5130287</td>\n",
       "    </tr>\n",
       "    <tr>\n",
       "      <th>2</th>\n",
       "      <td>5130287</td>\n",
       "      <td>Поляков Денис Иванович</td>\n",
       "      <td>22</td>\n",
       "      <td>54290525</td>\n",
       "      <td>Компьютерный мастер</td>\n",
       "      <td>None</td>\n",
       "      <td>Полный день</td>\n",
       "      <td>От 1 года до 3 лет</td>\n",
       "      <td>Полная занятость</td>\n",
       "      <td>60000</td>\n",
       "      <td>NaN</td>\n",
       "      <td>56</td>\n",
       "      <td>5130287</td>\n",
       "    </tr>\n",
       "    <tr>\n",
       "      <th>3</th>\n",
       "      <td>5130287</td>\n",
       "      <td>Поляков Денис Иванович</td>\n",
       "      <td>22</td>\n",
       "      <td>54303686</td>\n",
       "      <td>Компьютерный мастер</td>\n",
       "      <td>None</td>\n",
       "      <td>Полный день</td>\n",
       "      <td>От 1 года до 3 лет</td>\n",
       "      <td>Полная занятость</td>\n",
       "      <td>60000</td>\n",
       "      <td>NaN</td>\n",
       "      <td>70</td>\n",
       "      <td>5130287</td>\n",
       "    </tr>\n",
       "    <tr>\n",
       "      <th>4</th>\n",
       "      <td>5130287</td>\n",
       "      <td>Поляков Денис Иванович</td>\n",
       "      <td>22</td>\n",
       "      <td>66095025</td>\n",
       "      <td>Компьютерный мастер</td>\n",
       "      <td>None</td>\n",
       "      <td>Полный день</td>\n",
       "      <td>Нет опыта</td>\n",
       "      <td>Полная занятость</td>\n",
       "      <td>40000</td>\n",
       "      <td>55000.0</td>\n",
       "      <td>20</td>\n",
       "      <td>5130287</td>\n",
       "    </tr>\n",
       "    <tr>\n",
       "      <th>...</th>\n",
       "      <td>...</td>\n",
       "      <td>...</td>\n",
       "      <td>...</td>\n",
       "      <td>...</td>\n",
       "      <td>...</td>\n",
       "      <td>...</td>\n",
       "      <td>...</td>\n",
       "      <td>...</td>\n",
       "      <td>...</td>\n",
       "      <td>...</td>\n",
       "      <td>...</td>\n",
       "      <td>...</td>\n",
       "      <td>...</td>\n",
       "    </tr>\n",
       "    <tr>\n",
       "      <th>122</th>\n",
       "      <td>5130287</td>\n",
       "      <td>Поляков Денис Иванович</td>\n",
       "      <td>22</td>\n",
       "      <td>55186762</td>\n",
       "      <td>Компьютерный мастер</td>\n",
       "      <td>None</td>\n",
       "      <td>Полный день</td>\n",
       "      <td>От 1 года до 3 лет</td>\n",
       "      <td>Полная занятость</td>\n",
       "      <td>60000</td>\n",
       "      <td>NaN</td>\n",
       "      <td>1243</td>\n",
       "      <td>5130287</td>\n",
       "    </tr>\n",
       "    <tr>\n",
       "      <th>123</th>\n",
       "      <td>5130287</td>\n",
       "      <td>Поляков Денис Иванович</td>\n",
       "      <td>22</td>\n",
       "      <td>55836122</td>\n",
       "      <td>Компьютерный мастер</td>\n",
       "      <td>None</td>\n",
       "      <td>Полный день</td>\n",
       "      <td>Нет опыта</td>\n",
       "      <td>Полная занятость</td>\n",
       "      <td>50000</td>\n",
       "      <td>NaN</td>\n",
       "      <td>58</td>\n",
       "      <td>5130287</td>\n",
       "    </tr>\n",
       "    <tr>\n",
       "      <th>124</th>\n",
       "      <td>5130287</td>\n",
       "      <td>Поляков Денис Иванович</td>\n",
       "      <td>22</td>\n",
       "      <td>54534859</td>\n",
       "      <td>Компьютерный мастер</td>\n",
       "      <td>None</td>\n",
       "      <td>Полный день</td>\n",
       "      <td>От 1 года до 3 лет</td>\n",
       "      <td>Полная занятость</td>\n",
       "      <td>60000</td>\n",
       "      <td>NaN</td>\n",
       "      <td>212</td>\n",
       "      <td>5130287</td>\n",
       "    </tr>\n",
       "    <tr>\n",
       "      <th>125</th>\n",
       "      <td>5130287</td>\n",
       "      <td>Поляков Денис Иванович</td>\n",
       "      <td>22</td>\n",
       "      <td>55304208</td>\n",
       "      <td>Ученик компьютерного мастера</td>\n",
       "      <td>None</td>\n",
       "      <td>Полный день</td>\n",
       "      <td>Нет опыта</td>\n",
       "      <td>Стажировка</td>\n",
       "      <td>30000</td>\n",
       "      <td>50000.0</td>\n",
       "      <td>4</td>\n",
       "      <td>5130287</td>\n",
       "    </tr>\n",
       "    <tr>\n",
       "      <th>126</th>\n",
       "      <td>5130287</td>\n",
       "      <td>Поляков Денис Иванович</td>\n",
       "      <td>22</td>\n",
       "      <td>54427430</td>\n",
       "      <td>Компьютерный мастер</td>\n",
       "      <td>None</td>\n",
       "      <td>Полный день</td>\n",
       "      <td>От 1 года до 3 лет</td>\n",
       "      <td>Полная занятость</td>\n",
       "      <td>60000</td>\n",
       "      <td>NaN</td>\n",
       "      <td>25</td>\n",
       "      <td>5130287</td>\n",
       "    </tr>\n",
       "  </tbody>\n",
       "</table>\n",
       "<p>127 rows × 13 columns</p>\n",
       "</div>"
      ],
      "text/plain": [
       "          id                    name  area        id  \\\n",
       "0    5130287  Поляков Денис Иванович    22  55402339   \n",
       "1    5130287  Поляков Денис Иванович    22  53316670   \n",
       "2    5130287  Поляков Денис Иванович    22  54290525   \n",
       "3    5130287  Поляков Денис Иванович    22  54303686   \n",
       "4    5130287  Поляков Денис Иванович    22  66095025   \n",
       "..       ...                     ...   ...       ...   \n",
       "122  5130287  Поляков Денис Иванович    22  55186762   \n",
       "123  5130287  Поляков Денис Иванович    22  55836122   \n",
       "124  5130287  Поляков Денис Иванович    22  54534859   \n",
       "125  5130287  Поляков Денис Иванович    22  55304208   \n",
       "126  5130287  Поляков Денис Иванович    22  54427430   \n",
       "\n",
       "                             name key_skills     schedule          experience  \\\n",
       "0             Компьютерный мастер       None  Полный день  От 1 года до 3 лет   \n",
       "1             Компьютерный мастер       None  Полный день  От 1 года до 3 лет   \n",
       "2             Компьютерный мастер       None  Полный день  От 1 года до 3 лет   \n",
       "3             Компьютерный мастер       None  Полный день  От 1 года до 3 лет   \n",
       "4             Компьютерный мастер       None  Полный день           Нет опыта   \n",
       "..                            ...        ...          ...                 ...   \n",
       "122           Компьютерный мастер       None  Полный день  От 1 года до 3 лет   \n",
       "123           Компьютерный мастер       None  Полный день           Нет опыта   \n",
       "124           Компьютерный мастер       None  Полный день  От 1 года до 3 лет   \n",
       "125  Ученик компьютерного мастера       None  Полный день           Нет опыта   \n",
       "126           Компьютерный мастер       None  Полный день  От 1 года до 3 лет   \n",
       "\n",
       "           employment  salary_from  salary_to  area_id  employer_id  \n",
       "0    Полная занятость        60000        NaN     1141      5130287  \n",
       "1    Полная занятость        60000        NaN       47      5130287  \n",
       "2    Полная занятость        60000        NaN       56      5130287  \n",
       "3    Полная занятость        60000        NaN       70      5130287  \n",
       "4    Полная занятость        40000    55000.0       20      5130287  \n",
       "..                ...          ...        ...      ...          ...  \n",
       "122  Полная занятость        60000        NaN     1243      5130287  \n",
       "123  Полная занятость        50000        NaN       58      5130287  \n",
       "124  Полная занятость        60000        NaN      212      5130287  \n",
       "125        Стажировка        30000    50000.0        4      5130287  \n",
       "126  Полная занятость        60000        NaN       25      5130287  \n",
       "\n",
       "[127 rows x 13 columns]"
      ]
     },
     "execution_count": 24,
     "metadata": {},
     "output_type": "execute_result"
    }
   ],
   "source": [
    "q=pd.read_sql_query(query_t, connection)\n",
    "q"
   ]
  },
  {
   "cell_type": "markdown",
   "metadata": {
    "id": "eab2206d-d95b-468b-8e5f-34381abf0ce7"
   },
   "source": [
    "4. Напишите запрос для подсчёта количества работодателей, у которых не указана сфера деятельности. "
   ]
  },
  {
   "cell_type": "code",
   "execution_count": 84,
   "metadata": {
    "id": "80defb23-bfb1-4a18-8be6-bf36aa7165d5"
   },
   "outputs": [],
   "source": [
    "# текст запроса\n",
    "query_13 = f'''select count(*)\n",
    "           from employers e\n",
    "           left join employers_industries ei on e.id=ei.employer_id\n",
    "           where industry_id is NULL\n",
    "           '''"
   ]
  },
  {
   "cell_type": "code",
   "execution_count": 85,
   "metadata": {
    "id": "Dp_yCx6ysQSu"
   },
   "outputs": [
    {
     "name": "stdout",
     "output_type": "stream",
     "text": [
      "У 8419 работодателей не указана сфера деятельности\n"
     ]
    }
   ],
   "source": [
    "# результат запроса\n",
    "empl_count=pd.read_sql_query(query_13, connection)\n",
    "empl_count\n",
    "print('У {} работодателей не указана сфера деятельности'.format(empl_count['count'][0]))"
   ]
  },
  {
   "cell_type": "markdown",
   "metadata": {
    "id": "0112af31-f6b0-4e3b-82ab-71296e752e5e"
   },
   "source": [
    "5. Напишите запрос, чтобы узнать название компании, находящейся на третьем месте в алфавитном списке (по названию) компаний, у которых указано четыре сферы деятельности. "
   ]
  },
  {
   "cell_type": "code",
   "execution_count": 86,
   "metadata": {
    "id": "973b0cfc-a972-470a-8b4a-68744ef220c4"
   },
   "outputs": [],
   "source": [
    "# текст запроса\n",
    "query_14 = f'''select e.name employers\n",
    "           from employers e\n",
    "           left join employers_industries ei on e.id=ei.employer_id\n",
    "           group by employers\n",
    "           having count(ei.employer_id)=4\n",
    "           order by employers\n",
    "           offset 2\n",
    "           limit 1\n",
    "           '''"
   ]
  },
  {
   "cell_type": "code",
   "execution_count": 87,
   "metadata": {
    "id": "xsPtpp8EsaED"
   },
   "outputs": [
    {
     "name": "stdout",
     "output_type": "stream",
     "text": [
      "2ГИС находится на третьем месте среди работодателей, у которых указано 4 сферы деятельности\n"
     ]
    }
   ],
   "source": [
    "# результат запроса\n",
    "empl_count2=pd.read_sql_query(query_14, connection)\n",
    "print('{} находится на третьем месте среди работодателей, у которых указано 4 сферы деятельности'.format(empl_count2['employers'][0]))"
   ]
  },
  {
   "cell_type": "markdown",
   "metadata": {
    "id": "3bfcfdaf-755d-4d2b-8ed8-326201dc07ab"
   },
   "source": [
    "6. С помощью запроса выясните, у какого количества работодателей в качестве сферы деятельности указана Разработка программного обеспечения.\n"
   ]
  },
  {
   "cell_type": "code",
   "execution_count": 88,
   "metadata": {
    "id": "ad3f270f-2991-47eb-929b-e8f88a55b0d1"
   },
   "outputs": [],
   "source": [
    "# текст запроса\n",
    "query_15 = f'''select count(e.name) cnt\n",
    "           from employers e\n",
    "           join employers_industries ei on e.id=ei.employer_id\n",
    "           join industries i on i.id=ei.industry_id\n",
    "           where i.name='Разработка программного обеспечения'\n",
    "           '''"
   ]
  },
  {
   "cell_type": "code",
   "execution_count": 89,
   "metadata": {
    "id": "H72qxWM0shPR"
   },
   "outputs": [
    {
     "name": "stdout",
     "output_type": "stream",
     "text": [
      "У 3553 работодателей в качестве сферы деятельности указано -\"Разработка программного обеспечения\"\n"
     ]
    }
   ],
   "source": [
    "# результат запроса\n",
    "empl_PO=pd.read_sql_query(query_15, connection)\n",
    "print('У {} работодателей в качестве сферы деятельности указано -\"Разработка программного обеспечения\"'.format(empl_PO['cnt'][0]))"
   ]
  },
  {
   "cell_type": "markdown",
   "metadata": {
    "id": "7b02bb86-0546-40fb-94a4-242f050a5c57"
   },
   "source": [
    "7. Для компании «Яндекс» выведите список регионов-миллионников, в которых представлены вакансии компании, вместе с количеством вакансий в этих регионах. Также добавьте строку Total с общим количеством вакансий компании. Результат отсортируйте по возрастанию количества.\n",
    "\n",
    "Список городов-милионников надо взять [отсюда](https://ru.wikipedia.org/wiki/%D0%93%D0%BE%D1%80%D0%BE%D0%B4%D0%B0-%D0%BC%D0%B8%D0%BB%D0%BB%D0%B8%D0%BE%D0%BD%D0%B5%D1%80%D1%8B_%D0%A0%D0%BE%D1%81%D1%81%D0%B8%D0%B8). \n",
    "\n",
    "Если возникнут трудности с этим задание посмотрите материалы модуля  PYTHON-17. Как получать данные из веб-источников и API. "
   ]
  },
  {
   "cell_type": "code",
   "execution_count": 4,
   "metadata": {
    "id": "ZdfrL6gIs1Pn"
   },
   "outputs": [
    {
     "name": "stdout",
     "output_type": "stream",
     "text": [
      "Requirement already satisfied: beautifulsoup4 in c:\\users\\lenovo\\anaconda3\\lib\\site-packages (4.9.1)\n",
      "Requirement already satisfied: soupsieve>1.2 in c:\\users\\lenovo\\anaconda3\\lib\\site-packages (from beautifulsoup4) (2.0.1)\n"
     ]
    }
   ],
   "source": [
    "# код для получения списка городов-милионников\n",
    "!pip install beautifulsoup4 \n",
    "from bs4 import BeautifulSoup"
   ]
  },
  {
   "cell_type": "code",
   "execution_count": 5,
   "metadata": {},
   "outputs": [
    {
     "data": {
      "text/plain": [
       "('Москва',\n",
       " 'Санкт-Петербург',\n",
       " 'Новосибирск',\n",
       " 'Екатеринбург',\n",
       " 'Казань',\n",
       " 'Нижний Новгород',\n",
       " 'Челябинск',\n",
       " 'Красноярск',\n",
       " 'Самара',\n",
       " 'Уфа',\n",
       " 'Ростов-на-Дону',\n",
       " 'Омск',\n",
       " 'Краснодар',\n",
       " 'Воронеж',\n",
       " '[a]',\n",
       " 'Пермь',\n",
       " 'Волгоград')"
      ]
     },
     "execution_count": 5,
     "metadata": {},
     "output_type": "execute_result"
    }
   ],
   "source": [
    "import requests\n",
    "from bs4 import BeautifulSoup\n",
    "url = 'https://ru.wikipedia.org/wiki/%D0%93%D0%BE%D1%80%D0%BE%D0%B4%D0%B0-%D0%BC%D0%B8%D0%BB%D0%BB%D0%B8%D0%BE%D0%BD%D0%B5%D1%80%D1%8B_%D0%A0%D0%BE%D1%81%D1%81%D0%B8%D0%B8' # Определяем адрес страницы\n",
    "response = requests.get(url) \n",
    "page = BeautifulSoup(response.text, 'html.parser')\n",
    "lst = page.find_all('a')\n",
    "lst_cities=tuple([link.text for link in lst[46:63]])\n",
    "lst_cities"
   ]
  },
  {
   "cell_type": "code",
   "execution_count": 76,
   "metadata": {
    "id": "5a0e32a4-e68a-4365-8a39-2fe24c542c36"
   },
   "outputs": [],
   "source": [
    "# текст запроса\n",
    "query_16 = f'''(select a.name, count(v.id) cnt\n",
    "           from vacancies v \n",
    "           join areas a on a.id=v.area_id\n",
    "           join employers e on e.id=v.employer_id\n",
    "           where e.name='Яндекс'\n",
    "           group by a.name\n",
    "           having a.name in ('Москва',\n",
    " 'Санкт-Петербург',\n",
    " 'Новосибирск',\n",
    " 'Екатеринбург',\n",
    " 'Казань',\n",
    " 'Нижний Новгород',\n",
    " 'Челябинск',\n",
    " 'Красноярск',\n",
    " 'Самара',\n",
    " 'Уфа',\n",
    " 'Ростов-на-Дону',\n",
    " 'Омск',\n",
    " 'Краснодар',\n",
    " 'Воронеж',\n",
    " '[a]',\n",
    " 'Пермь',\n",
    " 'Волгоград'))\n",
    " union all\n",
    " (select 'Total', count(*)\n",
    " from vacancies v \n",
    "           join areas a on a.id=v.area_id\n",
    "           join employers e on e.id=v.employer_id\n",
    "           where e.name='Яндекс' and a.name in ('Москва',\n",
    " 'Санкт-Петербург',\n",
    " 'Новосибирск',\n",
    " 'Екатеринбург',\n",
    " 'Казань',\n",
    " 'Нижний Новгород',\n",
    " 'Челябинск',\n",
    " 'Красноярск',\n",
    " 'Самара',\n",
    " 'Уфа',\n",
    " 'Ростов-на-Дону',\n",
    " 'Омск',\n",
    " 'Краснодар',\n",
    " 'Воронеж',\n",
    " '[a]',\n",
    " 'Пермь',\n",
    " 'Волгоград'))\n",
    "  order by 2\n",
    "           '''"
   ]
  },
  {
   "cell_type": "code",
   "execution_count": 79,
   "metadata": {
    "id": "ttPhiO1rsvPq"
   },
   "outputs": [
    {
     "data": {
      "text/html": [
       "<div>\n",
       "<style scoped>\n",
       "    .dataframe tbody tr th:only-of-type {\n",
       "        vertical-align: middle;\n",
       "    }\n",
       "\n",
       "    .dataframe tbody tr th {\n",
       "        vertical-align: top;\n",
       "    }\n",
       "\n",
       "    .dataframe thead th {\n",
       "        text-align: right;\n",
       "    }\n",
       "</style>\n",
       "<table border=\"1\" class=\"dataframe\">\n",
       "  <thead>\n",
       "    <tr style=\"text-align: right;\">\n",
       "      <th></th>\n",
       "      <th>name</th>\n",
       "      <th>cnt</th>\n",
       "    </tr>\n",
       "  </thead>\n",
       "  <tbody>\n",
       "    <tr>\n",
       "      <th>0</th>\n",
       "      <td>Омск</td>\n",
       "      <td>21</td>\n",
       "    </tr>\n",
       "    <tr>\n",
       "      <th>1</th>\n",
       "      <td>Челябинск</td>\n",
       "      <td>22</td>\n",
       "    </tr>\n",
       "    <tr>\n",
       "      <th>2</th>\n",
       "      <td>Красноярск</td>\n",
       "      <td>23</td>\n",
       "    </tr>\n",
       "    <tr>\n",
       "      <th>3</th>\n",
       "      <td>Волгоград</td>\n",
       "      <td>24</td>\n",
       "    </tr>\n",
       "    <tr>\n",
       "      <th>4</th>\n",
       "      <td>Пермь</td>\n",
       "      <td>25</td>\n",
       "    </tr>\n",
       "    <tr>\n",
       "      <th>5</th>\n",
       "      <td>Казань</td>\n",
       "      <td>25</td>\n",
       "    </tr>\n",
       "    <tr>\n",
       "      <th>6</th>\n",
       "      <td>Ростов-на-Дону</td>\n",
       "      <td>25</td>\n",
       "    </tr>\n",
       "    <tr>\n",
       "      <th>7</th>\n",
       "      <td>Уфа</td>\n",
       "      <td>26</td>\n",
       "    </tr>\n",
       "    <tr>\n",
       "      <th>8</th>\n",
       "      <td>Самара</td>\n",
       "      <td>26</td>\n",
       "    </tr>\n",
       "    <tr>\n",
       "      <th>9</th>\n",
       "      <td>Краснодар</td>\n",
       "      <td>30</td>\n",
       "    </tr>\n",
       "    <tr>\n",
       "      <th>10</th>\n",
       "      <td>Воронеж</td>\n",
       "      <td>32</td>\n",
       "    </tr>\n",
       "    <tr>\n",
       "      <th>11</th>\n",
       "      <td>Новосибирск</td>\n",
       "      <td>35</td>\n",
       "    </tr>\n",
       "    <tr>\n",
       "      <th>12</th>\n",
       "      <td>Нижний Новгород</td>\n",
       "      <td>36</td>\n",
       "    </tr>\n",
       "    <tr>\n",
       "      <th>13</th>\n",
       "      <td>Екатеринбург</td>\n",
       "      <td>39</td>\n",
       "    </tr>\n",
       "    <tr>\n",
       "      <th>14</th>\n",
       "      <td>Санкт-Петербург</td>\n",
       "      <td>42</td>\n",
       "    </tr>\n",
       "    <tr>\n",
       "      <th>15</th>\n",
       "      <td>Москва</td>\n",
       "      <td>54</td>\n",
       "    </tr>\n",
       "    <tr>\n",
       "      <th>16</th>\n",
       "      <td>Total</td>\n",
       "      <td>485</td>\n",
       "    </tr>\n",
       "  </tbody>\n",
       "</table>\n",
       "</div>"
      ],
      "text/plain": [
       "               name  cnt\n",
       "0              Омск   21\n",
       "1         Челябинск   22\n",
       "2        Красноярск   23\n",
       "3         Волгоград   24\n",
       "4             Пермь   25\n",
       "5            Казань   25\n",
       "6    Ростов-на-Дону   25\n",
       "7               Уфа   26\n",
       "8            Самара   26\n",
       "9         Краснодар   30\n",
       "10          Воронеж   32\n",
       "11      Новосибирск   35\n",
       "12  Нижний Новгород   36\n",
       "13     Екатеринбург   39\n",
       "14  Санкт-Петербург   42\n",
       "15           Москва   54\n",
       "16            Total  485"
      ]
     },
     "execution_count": 79,
     "metadata": {},
     "output_type": "execute_result"
    }
   ],
   "source": [
    "# результат запроса\n",
    "ya=pd.read_sql_query(query_16, connection)\n",
    "ya"
   ]
  },
  {
   "cell_type": "markdown",
   "metadata": {
    "id": "04966e40-3bc3-4dc8-9ba2-e80580ce3abc"
   },
   "source": [
    "***"
   ]
  },
  {
   "cell_type": "markdown",
   "metadata": {
    "id": "aGGyER-yt4SR"
   },
   "source": [
    "## выводы по анализу работодателей\n",
    "Мы видим, что нет вакансий, если регион работодателя указан в общем - страна, область, и также нет вакансий в маленький городах. Возможно такие регионы не стоит указывать, лучше конкретный город. Если соискатель ищет вакансию, вряд ли будет искать по региону Россия или Московска область, скорее всего будет искать конкретный город.\n",
    "\n",
    "Большое колисество работодателя (около трети) не указывают сферу деятельности в вакансии, что затрудняет поиск для соискателей, так как многие ищут вакансии, выбирая конкретные сферы деятельности. При размещении вакансии стоит рекомендовать работодателям, чтоб указывали сферу деятельности, что увеличит число просмотров вакансии.\n",
    "\n",
    "Выполнила доп. запрос, чтоб проверить работодателя 'Поляков Денис Иванович' (это обычно ИП), при этом размещает вакансии в 88 регионах, что очень много для ИП (выглядит подозрительно). Из запроса видим, что это одни и те же вакансии 'компьютерный мастер'. Вполне может быть, что такая сеть мастерских."
   ]
  },
  {
   "cell_type": "markdown",
   "metadata": {
    "id": "b1ef156a-efcb-49ce-bb23-90763e7f35b2",
    "tags": []
   },
   "source": [
    "# Юнит 6. Предметный анализ"
   ]
  },
  {
   "cell_type": "markdown",
   "metadata": {
    "id": "b9cd50a0-992d-4988-8463-2b2b1c4629b4"
   },
   "source": [
    "1. Сколько вакансий имеет отношение к данным?\n",
    "\n",
    "Считаем, что вакансия имеет отношение к данным, если в её названии содержатся слова 'data' или 'данн'.\n",
    "\n",
    "*Подсказка: Обратите внимание, что названия вакансий могут быть написаны в любом регистре.* \n"
   ]
  },
  {
   "cell_type": "code",
   "execution_count": 90,
   "metadata": {
    "id": "54ab0e50-c0f1-47cc-a54b-bc5c8bc363f9"
   },
   "outputs": [],
   "source": [
    "# текст запроса\n",
    "query_17 = f'''select count(*)\n",
    "           from vacancies\n",
    "           where lower(name) like '%data%' or lower(name) like '%данн%'\n",
    "           '''"
   ]
  },
  {
   "cell_type": "code",
   "execution_count": 91,
   "metadata": {
    "id": "9F1meAqsuUjd"
   },
   "outputs": [
    {
     "name": "stdout",
     "output_type": "stream",
     "text": [
      "1771 ваканисий(я) имеет отношение к данным\n"
     ]
    }
   ],
   "source": [
    "# результат запроса\n",
    "cnt_data_vac=pd.read_sql_query(query_17, connection)\n",
    "print('{} ваканисий(я) имеет отношение к данным'.format(cnt_data_vac['count'][0]))"
   ]
  },
  {
   "cell_type": "markdown",
   "metadata": {
    "id": "4dea20cb-a36b-474a-a0b9-e08e8e3857a5"
   },
   "source": [
    "2. Сколько есть подходящих вакансий для начинающего дата-сайентиста? \n",
    "Будем считать вакансиями для дата-сайентистов такие, в названии которых есть хотя бы одно из следующих сочетаний:\n",
    " * 'data scientist'\n",
    " * 'data science'\n",
    " * 'исследователь данных'\n",
    " * 'ML' (здесь не нужно брать вакансии по HTML)\n",
    " * 'machine learning'\n",
    " * 'машинн%обучен%'\n",
    "\n",
    "** В следующих заданиях мы продолжим работать с вакансиями по этому условию.*\n",
    "\n",
    "Считаем вакансиями для специалистов уровня Junior следующие:\n",
    "* в названии есть слово 'junior' *или*\n",
    "* требуемый опыт — Нет опыта *или*\n",
    "* тип трудоустройства — Стажировка.\n",
    " "
   ]
  },
  {
   "cell_type": "code",
   "execution_count": 92,
   "metadata": {
    "id": "9c61b3c0-bb66-46c9-ae1e-81d3f5752b4a"
   },
   "outputs": [],
   "source": [
    "# текст запроса\n",
    "query_18 = f'''select count(name)\n",
    "           from vacancies\n",
    "           where (lower(name) like '%data scientist%'\n",
    "           or lower(name) like '%data science%'\n",
    "           or lower(name) like '%исследователь данных%'\n",
    "           or lower(name) like '%machine learning%'\n",
    "           or lower(name) like '%машинн%обучен%'\n",
    "           or \n",
    "           (name like '%ML%' and lower(name) not like '%html%'))\n",
    "           and \n",
    "           (employment='Стажировка' or experience='Нет опыта' or lower(name) like '%junior%')\n",
    "           '''"
   ]
  },
  {
   "cell_type": "code",
   "execution_count": 94,
   "metadata": {
    "id": "ZNM-LLYuu1dj"
   },
   "outputs": [
    {
     "name": "stdout",
     "output_type": "stream",
     "text": [
      "51 - количество вакансий, подходящих для начинающего дата-сайентиста\n"
     ]
    }
   ],
   "source": [
    "# результат запроса\n",
    "cnt_ds=pd.read_sql_query(query_18, connection)\n",
    "print('{} - количество вакансий, подходящих для начинающего дата-сайентиста'.format(cnt_ds['count'][0]))"
   ]
  },
  {
   "cell_type": "markdown",
   "metadata": {
    "id": "eedceb80-c5ca-480e-b27a-278dfb8b4438"
   },
   "source": [
    "3. Сколько есть вакансий для DS, в которых в качестве ключевого навыка указан SQL или postgres?\n",
    "\n",
    "** Критерии для отнесения вакансии к DS указаны в предыдущем задании.*"
   ]
  },
  {
   "cell_type": "code",
   "execution_count": 95,
   "metadata": {
    "id": "69621713-0cc5-4f1b-a1d7-bb144fa6148c"
   },
   "outputs": [],
   "source": [
    "# текст запроса\n",
    "query_19 = f'''select count(*)\n",
    "           from vacancies\n",
    "           where (lower(name) like '%data scientist%'\n",
    "           or lower(name) like '%data science%'\n",
    "           or lower(name) like '%исследователь данных%'\n",
    "           or lower(name) like '%machine learning%'\n",
    "           or lower(name) like '%машинн%обучен%'\n",
    "           or (name like '%ML%'  and lower(name) not like '%html%'))\n",
    "           and (lower(key_skills) like '%sql%' or lower(key_skills) like '%postgres%')\n",
    "           '''"
   ]
  },
  {
   "cell_type": "code",
   "execution_count": 96,
   "metadata": {
    "id": "alA8WEAAvGdf"
   },
   "outputs": [
    {
     "name": "stdout",
     "output_type": "stream",
     "text": [
      "201 - количество вакансий для DS, в которых в качестве ключевого навыка указан SQL или postgres\n"
     ]
    }
   ],
   "source": [
    "# результат запроса\n",
    "cnt_sk=pd.read_sql_query(query_19, connection)\n",
    "print('{} - количество вакансий для DS, в которых в качестве ключевого навыка указан SQL или postgres'.format(cnt_sk['count'][0]))"
   ]
  },
  {
   "cell_type": "code",
   "execution_count": 10,
   "metadata": {},
   "outputs": [],
   "source": [
    "# сделаем доп. запрос и посмотрим сколько всего вакансий, в которых указан SQL в качестве ключевого навыка\n",
    "query_sql = f'''select count(*)\n",
    "           from vacancies\n",
    "           where lower(key_skills) like '%sql%' or lower(key_skills) like '%postgres%'\n",
    "           '''"
   ]
  },
  {
   "cell_type": "code",
   "execution_count": 11,
   "metadata": {},
   "outputs": [
    {
     "name": "stdout",
     "output_type": "stream",
     "text": [
      "10888 - количество вакансий, в которых в качестве ключевого навыка указан SQL или postgres\n"
     ]
    }
   ],
   "source": [
    "cnt_sql=pd.read_sql_query(query_sql, connection)\n",
    "print('{} - количество вакансий, в которых в качестве ключевого навыка указан SQL или postgres'.format(cnt_sql['count'][0]))"
   ]
  },
  {
   "cell_type": "markdown",
   "metadata": {
    "id": "1be1e9c6-37cf-4a5f-bfeb-04cab799dc80"
   },
   "source": [
    "4. Проверьте, насколько популярен Python в требованиях работодателей к DS.Для этого вычислите количество вакансий, в которых в качестве ключевого навыка указан Python.\n",
    "\n",
    "** Это можно сделать помощью запроса, аналогичного предыдущему.*"
   ]
  },
  {
   "cell_type": "code",
   "execution_count": 97,
   "metadata": {
    "id": "0036a355-9ccf-4564-8b01-73d8194297e7"
   },
   "outputs": [],
   "source": [
    "# текст запроса\n",
    "query_20 = f'''select count(*)\n",
    "           from vacancies\n",
    "           where (lower(name) like '%data scientist%'\n",
    "           or lower(name) like '%data science%'\n",
    "           or lower(name) like '%исследователь данных%'\n",
    "           or lower(name) like '%machine learning%'\n",
    "           or lower(name) like '%машинн%обучен%'\n",
    "           or \n",
    "           (name like '%ML%'  and lower(name) not like '%html%'))\n",
    "           and \n",
    "           (lower(key_skills) like '%python%')\n",
    "           '''"
   ]
  },
  {
   "cell_type": "code",
   "execution_count": 98,
   "metadata": {
    "id": "1i-5WyucvQ6v"
   },
   "outputs": [
    {
     "name": "stdout",
     "output_type": "stream",
     "text": [
      "351 - количество вакансий для DS, в которых в качестве ключевого навыка указан Python\n"
     ]
    }
   ],
   "source": [
    "# результат запроса\n",
    "cnt_pth=pd.read_sql_query(query_20, connection)\n",
    "print('{} - количество вакансий для DS, в которых в качестве ключевого навыка указан Python'.format(cnt_pth['count'][0]))"
   ]
  },
  {
   "cell_type": "markdown",
   "metadata": {
    "id": "ec3c8db7-fa21-4a41-a994-1af63742a642"
   },
   "source": [
    "5. Сколько ключевых навыков в среднем указывают в вакансиях для DS?\n",
    "Ответ округлите до двух знаков после точки-разделителя."
   ]
  },
  {
   "cell_type": "code",
   "execution_count": 99,
   "metadata": {
    "id": "949132bc-d5b6-4611-8218-0b9a504d74f4"
   },
   "outputs": [],
   "source": [
    "# текст запроса\n",
    "query_21 = f'''select avg(length(key_skills) - length(replace(key_skills,'\\t',''))+1)\n",
    "           from vacancies\n",
    "           where (lower(name) like '%data scientist%'\n",
    "           or lower(name) like '%data science%'\n",
    "           or lower(name) like '%исследователь данных%'\n",
    "           or lower(name) like '%machine learning%'\n",
    "           or lower(name) like '%машинн%обучен%'\n",
    "           or (name like '%ML%'  and lower(name) not like '%html%'))\n",
    "           '''"
   ]
  },
  {
   "cell_type": "code",
   "execution_count": 100,
   "metadata": {
    "id": "a3V24Tvmviqk"
   },
   "outputs": [
    {
     "data": {
      "text/html": [
       "<div>\n",
       "<style scoped>\n",
       "    .dataframe tbody tr th:only-of-type {\n",
       "        vertical-align: middle;\n",
       "    }\n",
       "\n",
       "    .dataframe tbody tr th {\n",
       "        vertical-align: top;\n",
       "    }\n",
       "\n",
       "    .dataframe thead th {\n",
       "        text-align: right;\n",
       "    }\n",
       "</style>\n",
       "<table border=\"1\" class=\"dataframe\">\n",
       "  <thead>\n",
       "    <tr style=\"text-align: right;\">\n",
       "      <th></th>\n",
       "      <th>avg</th>\n",
       "    </tr>\n",
       "  </thead>\n",
       "  <tbody>\n",
       "    <tr>\n",
       "      <th>0</th>\n",
       "      <td>6.406032</td>\n",
       "    </tr>\n",
       "  </tbody>\n",
       "</table>\n",
       "</div>"
      ],
      "text/plain": [
       "        avg\n",
       "0  6.406032"
      ]
     },
     "execution_count": 100,
     "metadata": {},
     "output_type": "execute_result"
    }
   ],
   "source": [
    "# результат запроса\n",
    "cnt_skills=pd.read_sql_query(query_21, connection)\n",
    "cnt_skills"
   ]
  },
  {
   "cell_type": "markdown",
   "metadata": {
    "id": "1041c17a-ca8f-4543-a0ca-32778914fb00"
   },
   "source": [
    "6. Напишите запрос, позволяющий вычислить, какую зарплату для DS в **среднем** указывают для каждого типа требуемого опыта (уникальное значение из поля *experience*). \n",
    "\n",
    "При решении задачи примите во внимание следующее:\n",
    "1. Рассматриваем только вакансии, у которых заполнено хотя бы одно из двух полей с зарплатой.\n",
    "2. Если заполнены оба поля с зарплатой, то считаем зарплату по каждой вакансии как сумму двух полей, делённую на 2. Если заполнено только одно из полей, то его и считаем зарплатой по вакансии.\n",
    "3. Если в расчётах участвует null, в результате он тоже даст null (посмотрите, что возвращает запрос select 1 + null). Чтобы избежать этой ситуацию, мы воспользуемся функцией [coalesce](https://postgrespro.ru/docs/postgresql/9.5/functions-conditional#functions-coalesce-nvl-ifnull), которая заменит null на значение, которое мы передадим. Например, посмотрите, что возвращает запрос `select 1 + coalesce(null, 0)`\n",
    "\n",
    "Выясните, на какую зарплату в среднем может рассчитывать дата-сайентист с опытом работы от 3 до 6 лет. Результат округлите до целого числа. "
   ]
  },
  {
   "cell_type": "code",
   "execution_count": 101,
   "metadata": {
    "id": "6a743d39-5204-48d3-8271-b9f88e68d40e"
   },
   "outputs": [],
   "source": [
    "# текст запроса\n",
    "query_22 = f'''select experience, round(avg(COALESCE((salary_from+salary_to)/2, salary_from, salary_to)),0) avg_sal\n",
    "           from vacancies\n",
    "           where (lower(name) like '%data scientist%'\n",
    "           or lower(name) like '%data science%'\n",
    "           or lower(name) like '%исследователь данных%'\n",
    "           or lower(name) like '%machine learning%' or lower(name) like '%машинн%обучен%'\n",
    "           or (name like '%ML%'  and lower(name) not like '%html%'))\n",
    "           and (salary_from is not NULL or salary_to is not NULL)\n",
    "           group by experience\n",
    "           '''"
   ]
  },
  {
   "cell_type": "code",
   "execution_count": 102,
   "metadata": {
    "id": "aRIJ0mZEwU1_"
   },
   "outputs": [
    {
     "data": {
      "text/html": [
       "<div>\n",
       "<style scoped>\n",
       "    .dataframe tbody tr th:only-of-type {\n",
       "        vertical-align: middle;\n",
       "    }\n",
       "\n",
       "    .dataframe tbody tr th {\n",
       "        vertical-align: top;\n",
       "    }\n",
       "\n",
       "    .dataframe thead th {\n",
       "        text-align: right;\n",
       "    }\n",
       "</style>\n",
       "<table border=\"1\" class=\"dataframe\">\n",
       "  <thead>\n",
       "    <tr style=\"text-align: right;\">\n",
       "      <th></th>\n",
       "      <th>experience</th>\n",
       "      <th>avg_sal</th>\n",
       "    </tr>\n",
       "  </thead>\n",
       "  <tbody>\n",
       "    <tr>\n",
       "      <th>0</th>\n",
       "      <td>Нет опыта</td>\n",
       "      <td>74643.0</td>\n",
       "    </tr>\n",
       "    <tr>\n",
       "      <th>1</th>\n",
       "      <td>От 1 года до 3 лет</td>\n",
       "      <td>139675.0</td>\n",
       "    </tr>\n",
       "    <tr>\n",
       "      <th>2</th>\n",
       "      <td>От 3 до 6 лет</td>\n",
       "      <td>243115.0</td>\n",
       "    </tr>\n",
       "  </tbody>\n",
       "</table>\n",
       "</div>"
      ],
      "text/plain": [
       "           experience   avg_sal\n",
       "0           Нет опыта   74643.0\n",
       "1  От 1 года до 3 лет  139675.0\n",
       "2       От 3 до 6 лет  243115.0"
      ]
     },
     "execution_count": 102,
     "metadata": {},
     "output_type": "execute_result"
    }
   ],
   "source": [
    "# результат запроса\n",
    "avg_sel=pd.read_sql_query(query_22, connection)\n",
    "avg_sel"
   ]
  },
  {
   "cell_type": "code",
   "execution_count": 104,
   "metadata": {},
   "outputs": [],
   "source": [
    "# Сделаем доп. запрос, чтоб посмотреть средние ЗП по всем вакансиям\n",
    "query_s = f'''select experience, round(avg(COALESCE((salary_from+salary_to)/2, salary_from, salary_to)),0) avg_sal\n",
    "           from vacancies\n",
    "           group by experience\n",
    "           '''"
   ]
  },
  {
   "cell_type": "code",
   "execution_count": 105,
   "metadata": {},
   "outputs": [
    {
     "data": {
      "text/html": [
       "<div>\n",
       "<style scoped>\n",
       "    .dataframe tbody tr th:only-of-type {\n",
       "        vertical-align: middle;\n",
       "    }\n",
       "\n",
       "    .dataframe tbody tr th {\n",
       "        vertical-align: top;\n",
       "    }\n",
       "\n",
       "    .dataframe thead th {\n",
       "        text-align: right;\n",
       "    }\n",
       "</style>\n",
       "<table border=\"1\" class=\"dataframe\">\n",
       "  <thead>\n",
       "    <tr style=\"text-align: right;\">\n",
       "      <th></th>\n",
       "      <th>experience</th>\n",
       "      <th>avg_sal</th>\n",
       "    </tr>\n",
       "  </thead>\n",
       "  <tbody>\n",
       "    <tr>\n",
       "      <th>0</th>\n",
       "      <td>Более 6 лет</td>\n",
       "      <td>166256.0</td>\n",
       "    </tr>\n",
       "    <tr>\n",
       "      <th>1</th>\n",
       "      <td>От 3 до 6 лет</td>\n",
       "      <td>133211.0</td>\n",
       "    </tr>\n",
       "    <tr>\n",
       "      <th>2</th>\n",
       "      <td>Нет опыта</td>\n",
       "      <td>40472.0</td>\n",
       "    </tr>\n",
       "    <tr>\n",
       "      <th>3</th>\n",
       "      <td>От 1 года до 3 лет</td>\n",
       "      <td>76541.0</td>\n",
       "    </tr>\n",
       "  </tbody>\n",
       "</table>\n",
       "</div>"
      ],
      "text/plain": [
       "           experience   avg_sal\n",
       "0         Более 6 лет  166256.0\n",
       "1       От 3 до 6 лет  133211.0\n",
       "2           Нет опыта   40472.0\n",
       "3  От 1 года до 3 лет   76541.0"
      ]
     },
     "execution_count": 105,
     "metadata": {},
     "output_type": "execute_result"
    }
   ],
   "source": [
    "avg_sel_all=pd.read_sql_query(query_s, connection)\n",
    "avg_sel_all"
   ]
  },
  {
   "cell_type": "code",
   "execution_count": 106,
   "metadata": {},
   "outputs": [],
   "source": [
    "# Сделаем доп. запрос, что посмотреть соклько всего вакансий в DS\n",
    "query_c = f'''select count(*)\n",
    "           from vacancies\n",
    "           where (lower(name) like '%data scientist%'\n",
    "           or lower(name) like '%data science%'\n",
    "           or lower(name) like '%исследователь данных%'\n",
    "           or lower(name) like '%machine learning%'\n",
    "           or lower(name) like '%машинн%обучен%'\n",
    "           or (name like '%ML%'  and lower(name) not like '%html%'))\n",
    "           '''"
   ]
  },
  {
   "cell_type": "code",
   "execution_count": 107,
   "metadata": {},
   "outputs": [
    {
     "name": "stdout",
     "output_type": "stream",
     "text": [
      "480 - количество вакансий для DS\n"
     ]
    }
   ],
   "source": [
    "count_vac_ds=pd.read_sql_query(query_c, connection)\n",
    "count_vac_ds\n",
    "print('{} - количество вакансий для DS'.format(count_vac_ds['count'][0]))"
   ]
  },
  {
   "cell_type": "markdown",
   "metadata": {
    "id": "6a7892b4-4113-4746-adce-18aa2844f18e"
   },
   "source": [
    "***"
   ]
  },
  {
   "cell_type": "markdown",
   "metadata": {
    "id": "UjLWUptVwY1o"
   },
   "source": [
    "## выводы по предметному анализу\n",
    "Обратим внимание в запросе о средней ЗП в зависимости от опыта - нет вакансий с опытом более 6 лет. Сфера Data Science достаточно новая, особенно для России, поэтому люди с опытом более 6 лет это редкость и искать их вряд ли будут на hh.\n",
    "\n",
    "Из запроса о средней ЗП для DS вакансий в зависимости от опыта и доп. запроса о среднй ЗП по всем вакансиям видим, что в DS зарплаты почти в 2 раза выше, чем средние по всем вакансиям.\n",
    "\n",
    "Из запроса видим, что вакансий для начинающего датасайентиста немного - 51 из 480 вакансий (из доп. запроса), относящихся к DS. Делаем вывод, найти работу без опыта в этой облати довольно сложно.\n",
    "\n",
    "В 201 из 480 вакансий для DS в качестве ключевого навыка указан SQL, что кажется мало, ведь в DS этот язык запросов важен. Поэтому выполнили доп. запрос, чтоб посмотреть в скольких вакансиях указан SQL - 10888 - очень много. Делаем вывод о важности знания этого языка запросов. Многие из этих вакансий относятся к программированию.\n",
    "\n",
    "    P.S. Отмечу, что запросы выполнялись исходя из критериев задания. Но в этот запрос (касающийся вакансий, относящихся к DS) наверняки могли попасть лишние вакансии (критерий 'ML'), так же многие, относящиеся к области 'DS' не попадают в эту сферу (например, аналитиков данных можно отнести сюда и т.п.). "
   ]
  },
  {
   "cell_type": "markdown",
   "metadata": {
    "id": "c0ED6fh7wiBT"
   },
   "source": [
    "# Общий вывод по проекту"
   ]
  },
  {
   "cell_type": "markdown",
   "metadata": {
    "id": "h9B3BL-wwj18"
   },
   "source": [
    "## подведем итог исследования, обобщите выводы\n",
    "#### здесь можно (это будет плюсом) провести дополнительные исследования данных, сделать прогнозы, продумать варианты продолжения исследования\n",
    "\n",
    "*Дополнительные запросы проводились ранее в проекте.*\n",
    "\n",
    "Стоит рекомендовать работодателям указывать сферу деятельности, указывать конкретный город для увеличения просмотров вакансии.\n",
    "Многие соискатели при поиске вакансий фильтруют по ЗП (от...), а в половине вакансий ЗП не указана, возможно некоторым работодателям все таки стоит указывать зарплатную вилку. \n",
    "\n",
    "Прогнозы: вакансии с удаленной работой будут увеличиваться, знание языков программирования будет более востребованы.\n",
    "Что касается тенденций, то хорошо бы было сравнить с предыдущими периодами (оценить количество вакансий и ЗП за более старые периоды).\n",
    "\n",
    "Нам стоит подумать, как улучить критерии для лучшего подсчета вакансий, относящихся к DS.   \n",
    "\n",
    "Можно провести исследования по ключевым навыкам, вывести их отдельно и посмотреть более востребованные."
   ]
  }
 ],
 "metadata": {
  "colab": {
   "collapsed_sections": [
    "8d62a9f3-f64e-4fe7-bdac-c4dffa16155e"
   ],
   "provenance": []
  },
  "kernelspec": {
   "display_name": "Python 3",
   "language": "python",
   "name": "python3"
  },
  "language_info": {
   "codemirror_mode": {
    "name": "ipython",
    "version": 3
   },
   "file_extension": ".py",
   "mimetype": "text/x-python",
   "name": "python",
   "nbconvert_exporter": "python",
   "pygments_lexer": "ipython3",
   "version": "3.8.3"
  }
 },
 "nbformat": 4,
 "nbformat_minor": 5
}
